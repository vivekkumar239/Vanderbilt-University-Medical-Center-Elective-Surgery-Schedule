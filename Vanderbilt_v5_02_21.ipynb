{
  "nbformat": 4,
  "nbformat_minor": 0,
  "metadata": {
    "kernelspec": {
      "display_name": "Python 3",
      "language": "python",
      "name": "python3"
    },
    "language_info": {
      "codemirror_mode": {
        "name": "ipython",
        "version": 3
      },
      "file_extension": ".py",
      "mimetype": "text/x-python",
      "name": "python",
      "nbconvert_exporter": "python",
      "pygments_lexer": "ipython3",
      "version": "3.8.3"
    },
    "colab": {
      "name": "Vanderbilt_v5_02/21.ipynb",
      "provenance": [],
      "collapsed_sections": [
        "QtuTyGmx0967",
        "xmkKDDQW0969",
        "6TSpRga0096_",
        "t884dXd9097C"
      ]
    }
  },
  "cells": [
    {
      "cell_type": "code",
      "metadata": {
        "colab": {
          "base_uri": "https://localhost:8080/"
        },
        "id": "etoIHN1C1zP5",
        "outputId": "bf32c74f-ef40-41cb-cfee-b607212abad6"
      },
      "source": [
        "from google.colab import drive\n",
        "drive.mount('/content/drive')"
      ],
      "execution_count": null,
      "outputs": [
        {
          "output_type": "stream",
          "text": [
            "Mounted at /content/drive\n"
          ],
          "name": "stdout"
        }
      ]
    },
    {
      "cell_type": "code",
      "metadata": {
        "colab": {
          "base_uri": "https://localhost:8080/"
        },
        "id": "jo0wwHFe2C2n",
        "outputId": "dfbfc2b6-7db1-48ce-bb5c-c59c06fe3212"
      },
      "source": [
        "%cd /content/drive/MyDrive/IDS-506/Vanderbilt University Case"
      ],
      "execution_count": null,
      "outputs": [
        {
          "output_type": "stream",
          "text": [
            "/content/drive/MyDrive/IDS-506/Vanderbilt University Case\n"
          ],
          "name": "stdout"
        }
      ]
    },
    {
      "cell_type": "code",
      "metadata": {
        "id": "zYYBRh4e096w"
      },
      "source": [
        "import pandas as pd\n",
        "import numpy as np\n",
        "import matplotlib.pyplot as plt\n",
        "import seaborn as sns\n",
        "%matplotlib inline\n",
        "from sklearn import metrics\n",
        "import warnings\n",
        "warnings.filterwarnings('ignore')"
      ],
      "execution_count": null,
      "outputs": []
    },
    {
      "cell_type": "code",
      "metadata": {
        "colab": {
          "base_uri": "https://localhost:8080/"
        },
        "id": "O77gW-3O2KCj",
        "outputId": "79eee917-0770-48fd-c72e-a9fcc3c2dc32"
      },
      "source": [
        "!ls"
      ],
      "execution_count": null,
      "outputs": [
        {
          "output_type": "stream",
          "text": [
            "'Vanderbilt Univ Case Dataset.xlsx'   Vanderbilt_v4.ipynb\n",
            " Vanderbilt_v2.ipynb\t\t     'Vanderbilt_v5_02 21.ipynb'\n"
          ],
          "name": "stdout"
        }
      ]
    },
    {
      "cell_type": "code",
      "metadata": {
        "id": "xerDbbJR0961"
      },
      "source": [
        "df = pd.read_excel('Vanderbilt Univ Case Dataset.xlsx')"
      ],
      "execution_count": null,
      "outputs": []
    },
    {
      "cell_type": "code",
      "metadata": {
        "colab": {
          "base_uri": "https://localhost:8080/",
          "height": 204
        },
        "id": "yg6YAw4M0962",
        "outputId": "876aec32-3361-4203-a351-2d017212348d"
      },
      "source": [
        "df.head()"
      ],
      "execution_count": null,
      "outputs": [
        {
          "output_type": "execute_result",
          "data": {
            "text/html": [
              "<div>\n",
              "<style scoped>\n",
              "    .dataframe tbody tr th:only-of-type {\n",
              "        vertical-align: middle;\n",
              "    }\n",
              "\n",
              "    .dataframe tbody tr th {\n",
              "        vertical-align: top;\n",
              "    }\n",
              "\n",
              "    .dataframe thead th {\n",
              "        text-align: right;\n",
              "    }\n",
              "</style>\n",
              "<table border=\"1\" class=\"dataframe\">\n",
              "  <thead>\n",
              "    <tr style=\"text-align: right;\">\n",
              "      <th></th>\n",
              "      <th>SurgDate</th>\n",
              "      <th>DOW</th>\n",
              "      <th>T - 28</th>\n",
              "      <th>T - 21</th>\n",
              "      <th>T - 14</th>\n",
              "      <th>T - 13</th>\n",
              "      <th>T - 12</th>\n",
              "      <th>T - 11</th>\n",
              "      <th>T - 10</th>\n",
              "      <th>T - 9</th>\n",
              "      <th>T - 8</th>\n",
              "      <th>T - 7</th>\n",
              "      <th>T - 6</th>\n",
              "      <th>T - 5</th>\n",
              "      <th>T - 4</th>\n",
              "      <th>T - 3</th>\n",
              "      <th>T - 2</th>\n",
              "      <th>T - 1</th>\n",
              "      <th>Actual</th>\n",
              "    </tr>\n",
              "  </thead>\n",
              "  <tbody>\n",
              "    <tr>\n",
              "      <th>0</th>\n",
              "      <td>2011-10-10</td>\n",
              "      <td>Mon</td>\n",
              "      <td>38</td>\n",
              "      <td>45</td>\n",
              "      <td>60</td>\n",
              "      <td>63</td>\n",
              "      <td>65</td>\n",
              "      <td>70</td>\n",
              "      <td>73</td>\n",
              "      <td>73</td>\n",
              "      <td>73</td>\n",
              "      <td>80</td>\n",
              "      <td>84</td>\n",
              "      <td>89</td>\n",
              "      <td>94</td>\n",
              "      <td>98</td>\n",
              "      <td>100</td>\n",
              "      <td>104</td>\n",
              "      <td>106</td>\n",
              "    </tr>\n",
              "    <tr>\n",
              "      <th>1</th>\n",
              "      <td>2011-10-11</td>\n",
              "      <td>Tue</td>\n",
              "      <td>35</td>\n",
              "      <td>47</td>\n",
              "      <td>65</td>\n",
              "      <td>68</td>\n",
              "      <td>78</td>\n",
              "      <td>82</td>\n",
              "      <td>82</td>\n",
              "      <td>82</td>\n",
              "      <td>86</td>\n",
              "      <td>89</td>\n",
              "      <td>92</td>\n",
              "      <td>95</td>\n",
              "      <td>99</td>\n",
              "      <td>99</td>\n",
              "      <td>99</td>\n",
              "      <td>114</td>\n",
              "      <td>121</td>\n",
              "    </tr>\n",
              "    <tr>\n",
              "      <th>2</th>\n",
              "      <td>2011-10-12</td>\n",
              "      <td>Wed</td>\n",
              "      <td>26</td>\n",
              "      <td>43</td>\n",
              "      <td>54</td>\n",
              "      <td>62</td>\n",
              "      <td>72</td>\n",
              "      <td>72</td>\n",
              "      <td>72</td>\n",
              "      <td>74</td>\n",
              "      <td>87</td>\n",
              "      <td>94</td>\n",
              "      <td>96</td>\n",
              "      <td>101</td>\n",
              "      <td>102</td>\n",
              "      <td>102</td>\n",
              "      <td>106</td>\n",
              "      <td>114</td>\n",
              "      <td>126</td>\n",
              "    </tr>\n",
              "    <tr>\n",
              "      <th>3</th>\n",
              "      <td>2011-10-13</td>\n",
              "      <td>Thu</td>\n",
              "      <td>28</td>\n",
              "      <td>48</td>\n",
              "      <td>65</td>\n",
              "      <td>70</td>\n",
              "      <td>72</td>\n",
              "      <td>72</td>\n",
              "      <td>72</td>\n",
              "      <td>82</td>\n",
              "      <td>87</td>\n",
              "      <td>91</td>\n",
              "      <td>94</td>\n",
              "      <td>94</td>\n",
              "      <td>94</td>\n",
              "      <td>97</td>\n",
              "      <td>98</td>\n",
              "      <td>103</td>\n",
              "      <td>114</td>\n",
              "    </tr>\n",
              "    <tr>\n",
              "      <th>4</th>\n",
              "      <td>2011-10-14</td>\n",
              "      <td>Fri</td>\n",
              "      <td>31</td>\n",
              "      <td>40</td>\n",
              "      <td>50</td>\n",
              "      <td>50</td>\n",
              "      <td>50</td>\n",
              "      <td>54</td>\n",
              "      <td>62</td>\n",
              "      <td>68</td>\n",
              "      <td>71</td>\n",
              "      <td>73</td>\n",
              "      <td>73</td>\n",
              "      <td>73</td>\n",
              "      <td>78</td>\n",
              "      <td>83</td>\n",
              "      <td>87</td>\n",
              "      <td>94</td>\n",
              "      <td>106</td>\n",
              "    </tr>\n",
              "  </tbody>\n",
              "</table>\n",
              "</div>"
            ],
            "text/plain": [
              "    SurgDate  DOW  T - 28  T - 21  T - 14  ...  T - 4  T - 3  T - 2  T - 1  Actual\n",
              "0 2011-10-10  Mon      38      45      60  ...     94     98    100    104     106\n",
              "1 2011-10-11  Tue      35      47      65  ...     99     99     99    114     121\n",
              "2 2011-10-12  Wed      26      43      54  ...    102    102    106    114     126\n",
              "3 2011-10-13  Thu      28      48      65  ...     94     97     98    103     114\n",
              "4 2011-10-14  Fri      31      40      50  ...     78     83     87     94     106\n",
              "\n",
              "[5 rows x 19 columns]"
            ]
          },
          "metadata": {
            "tags": []
          },
          "execution_count": 7
        }
      ]
    },
    {
      "cell_type": "code",
      "metadata": {
        "colab": {
          "base_uri": "https://localhost:8080/"
        },
        "id": "4lZtvAFk0963",
        "outputId": "5290ccf1-61e5-4f38-b38f-a20341d8cece"
      },
      "source": [
        "df.shape"
      ],
      "execution_count": null,
      "outputs": [
        {
          "output_type": "execute_result",
          "data": {
            "text/plain": [
              "(241, 19)"
            ]
          },
          "metadata": {
            "tags": []
          },
          "execution_count": 8
        }
      ]
    },
    {
      "cell_type": "code",
      "metadata": {
        "colab": {
          "base_uri": "https://localhost:8080/"
        },
        "id": "4cZjzvnYjzYQ",
        "outputId": "78aa3473-faad-4d06-e411-ec0706f89abe"
      },
      "source": [
        "df.info()"
      ],
      "execution_count": null,
      "outputs": [
        {
          "output_type": "stream",
          "text": [
            "<class 'pandas.core.frame.DataFrame'>\n",
            "RangeIndex: 241 entries, 0 to 240\n",
            "Data columns (total 19 columns):\n",
            " #   Column    Non-Null Count  Dtype         \n",
            "---  ------    --------------  -----         \n",
            " 0   SurgDate  241 non-null    datetime64[ns]\n",
            " 1   DOW       241 non-null    object        \n",
            " 2   T - 28    241 non-null    int64         \n",
            " 3   T - 21    241 non-null    int64         \n",
            " 4   T - 14    241 non-null    int64         \n",
            " 5   T - 13    241 non-null    int64         \n",
            " 6   T - 12    241 non-null    int64         \n",
            " 7   T - 11    241 non-null    int64         \n",
            " 8   T - 10    241 non-null    int64         \n",
            " 9   T - 9     241 non-null    int64         \n",
            " 10  T - 8     241 non-null    int64         \n",
            " 11  T - 7     241 non-null    int64         \n",
            " 12  T - 6     241 non-null    int64         \n",
            " 13  T - 5     241 non-null    int64         \n",
            " 14  T - 4     241 non-null    int64         \n",
            " 15  T - 3     241 non-null    int64         \n",
            " 16  T - 2     241 non-null    int64         \n",
            " 17  T - 1     241 non-null    int64         \n",
            " 18  Actual    241 non-null    int64         \n",
            "dtypes: datetime64[ns](1), int64(17), object(1)\n",
            "memory usage: 35.9+ KB\n"
          ],
          "name": "stdout"
        }
      ]
    },
    {
      "cell_type": "markdown",
      "metadata": {
        "id": "Vy9RGYfa0963"
      },
      "source": [
        "## Exploratory Data Analysis"
      ]
    },
    {
      "cell_type": "code",
      "metadata": {
        "colab": {
          "base_uri": "https://localhost:8080/",
          "height": 300
        },
        "id": "t2NK0EQY8Csf",
        "outputId": "ec326ea9-07d6-4fee-98de-fd585d00d581"
      },
      "source": [
        "sns.distplot(df['Actual'])"
      ],
      "execution_count": null,
      "outputs": [
        {
          "output_type": "execute_result",
          "data": {
            "text/plain": [
              "<matplotlib.axes._subplots.AxesSubplot at 0x7fe91bc37048>"
            ]
          },
          "metadata": {
            "tags": []
          },
          "execution_count": 10
        },
        {
          "output_type": "display_data",
          "data": {
            "image/png": "[encoded data removed]",
            "text/plain": [
              "<Figure size 432x288 with 1 Axes>"
            ]
          },
          "metadata": {
            "tags": [],
            "needs_background": "light"
          }
        }
      ]
    },
    {
      "cell_type": "code",
      "metadata": {
        "colab": {
          "base_uri": "https://localhost:8080/",
          "height": 297
        },
        "id": "b04b_jma0964",
        "outputId": "931ec6e6-de8e-4573-b3b6-d3c19c310a6d"
      },
      "source": [
        "df.describe()"
      ],
      "execution_count": null,
      "outputs": [
        {
          "output_type": "execute_result",
          "data": {
            "text/html": [
              "<div>\n",
              "<style scoped>\n",
              "    .dataframe tbody tr th:only-of-type {\n",
              "        vertical-align: middle;\n",
              "    }\n",
              "\n",
              "    .dataframe tbody tr th {\n",
              "        vertical-align: top;\n",
              "    }\n",
              "\n",
              "    .dataframe thead th {\n",
              "        text-align: right;\n",
              "    }\n",
              "</style>\n",
              "<table border=\"1\" class=\"dataframe\">\n",
              "  <thead>\n",
              "    <tr style=\"text-align: right;\">\n",
              "      <th></th>\n",
              "      <th>T - 28</th>\n",
              "      <th>T - 21</th>\n",
              "      <th>T - 14</th>\n",
              "      <th>T - 13</th>\n",
              "      <th>T - 12</th>\n",
              "      <th>T - 11</th>\n",
              "      <th>T - 10</th>\n",
              "      <th>T - 9</th>\n",
              "      <th>T - 8</th>\n",
              "      <th>T - 7</th>\n",
              "      <th>T - 6</th>\n",
              "      <th>T - 5</th>\n",
              "      <th>T - 4</th>\n",
              "      <th>T - 3</th>\n",
              "      <th>T - 2</th>\n",
              "      <th>T - 1</th>\n",
              "      <th>Actual</th>\n",
              "    </tr>\n",
              "  </thead>\n",
              "  <tbody>\n",
              "    <tr>\n",
              "      <th>count</th>\n",
              "      <td>241.000000</td>\n",
              "      <td>241.000000</td>\n",
              "      <td>241.000000</td>\n",
              "      <td>241.000000</td>\n",
              "      <td>241.000000</td>\n",
              "      <td>241.000000</td>\n",
              "      <td>241.000000</td>\n",
              "      <td>241.000000</td>\n",
              "      <td>241.000000</td>\n",
              "      <td>241.000000</td>\n",
              "      <td>241.000000</td>\n",
              "      <td>241.000000</td>\n",
              "      <td>241.000000</td>\n",
              "      <td>241.000000</td>\n",
              "      <td>241.000000</td>\n",
              "      <td>241.000000</td>\n",
              "      <td>241.000000</td>\n",
              "    </tr>\n",
              "    <tr>\n",
              "      <th>mean</th>\n",
              "      <td>34.261411</td>\n",
              "      <td>47.240664</td>\n",
              "      <td>64.439834</td>\n",
              "      <td>67.817427</td>\n",
              "      <td>70.502075</td>\n",
              "      <td>72.365145</td>\n",
              "      <td>74.946058</td>\n",
              "      <td>78.041494</td>\n",
              "      <td>82.336100</td>\n",
              "      <td>86.000000</td>\n",
              "      <td>89.269710</td>\n",
              "      <td>92.091286</td>\n",
              "      <td>94.688797</td>\n",
              "      <td>97.373444</td>\n",
              "      <td>101.165975</td>\n",
              "      <td>110.008299</td>\n",
              "      <td>116.381743</td>\n",
              "    </tr>\n",
              "    <tr>\n",
              "      <th>std</th>\n",
              "      <td>9.387610</td>\n",
              "      <td>11.321079</td>\n",
              "      <td>13.495891</td>\n",
              "      <td>14.200934</td>\n",
              "      <td>14.873109</td>\n",
              "      <td>14.970786</td>\n",
              "      <td>15.096674</td>\n",
              "      <td>15.054842</td>\n",
              "      <td>15.594841</td>\n",
              "      <td>16.089075</td>\n",
              "      <td>16.911962</td>\n",
              "      <td>17.370472</td>\n",
              "      <td>17.468264</td>\n",
              "      <td>17.589816</td>\n",
              "      <td>17.547004</td>\n",
              "      <td>17.785057</td>\n",
              "      <td>17.629388</td>\n",
              "    </tr>\n",
              "    <tr>\n",
              "      <th>min</th>\n",
              "      <td>0.000000</td>\n",
              "      <td>0.000000</td>\n",
              "      <td>0.000000</td>\n",
              "      <td>0.000000</td>\n",
              "      <td>0.000000</td>\n",
              "      <td>0.000000</td>\n",
              "      <td>0.000000</td>\n",
              "      <td>0.000000</td>\n",
              "      <td>0.000000</td>\n",
              "      <td>0.000000</td>\n",
              "      <td>0.000000</td>\n",
              "      <td>0.000000</td>\n",
              "      <td>0.000000</td>\n",
              "      <td>0.000000</td>\n",
              "      <td>0.000000</td>\n",
              "      <td>3.000000</td>\n",
              "      <td>11.000000</td>\n",
              "    </tr>\n",
              "    <tr>\n",
              "      <th>25%</th>\n",
              "      <td>28.000000</td>\n",
              "      <td>41.000000</td>\n",
              "      <td>58.000000</td>\n",
              "      <td>62.000000</td>\n",
              "      <td>64.000000</td>\n",
              "      <td>66.000000</td>\n",
              "      <td>68.000000</td>\n",
              "      <td>71.000000</td>\n",
              "      <td>76.000000</td>\n",
              "      <td>80.000000</td>\n",
              "      <td>82.000000</td>\n",
              "      <td>84.000000</td>\n",
              "      <td>88.000000</td>\n",
              "      <td>91.000000</td>\n",
              "      <td>95.000000</td>\n",
              "      <td>102.000000</td>\n",
              "      <td>110.000000</td>\n",
              "    </tr>\n",
              "    <tr>\n",
              "      <th>50%</th>\n",
              "      <td>35.000000</td>\n",
              "      <td>48.000000</td>\n",
              "      <td>65.000000</td>\n",
              "      <td>69.000000</td>\n",
              "      <td>72.000000</td>\n",
              "      <td>74.000000</td>\n",
              "      <td>77.000000</td>\n",
              "      <td>79.000000</td>\n",
              "      <td>85.000000</td>\n",
              "      <td>87.000000</td>\n",
              "      <td>91.000000</td>\n",
              "      <td>94.000000</td>\n",
              "      <td>97.000000</td>\n",
              "      <td>100.000000</td>\n",
              "      <td>103.000000</td>\n",
              "      <td>112.000000</td>\n",
              "      <td>117.000000</td>\n",
              "    </tr>\n",
              "    <tr>\n",
              "      <th>75%</th>\n",
              "      <td>40.000000</td>\n",
              "      <td>55.000000</td>\n",
              "      <td>73.000000</td>\n",
              "      <td>76.000000</td>\n",
              "      <td>80.000000</td>\n",
              "      <td>82.000000</td>\n",
              "      <td>84.000000</td>\n",
              "      <td>86.000000</td>\n",
              "      <td>92.000000</td>\n",
              "      <td>95.000000</td>\n",
              "      <td>99.000000</td>\n",
              "      <td>103.000000</td>\n",
              "      <td>106.000000</td>\n",
              "      <td>107.000000</td>\n",
              "      <td>111.000000</td>\n",
              "      <td>119.000000</td>\n",
              "      <td>126.000000</td>\n",
              "    </tr>\n",
              "    <tr>\n",
              "      <th>max</th>\n",
              "      <td>57.000000</td>\n",
              "      <td>73.000000</td>\n",
              "      <td>93.000000</td>\n",
              "      <td>99.000000</td>\n",
              "      <td>102.000000</td>\n",
              "      <td>106.000000</td>\n",
              "      <td>106.000000</td>\n",
              "      <td>112.000000</td>\n",
              "      <td>113.000000</td>\n",
              "      <td>118.000000</td>\n",
              "      <td>121.000000</td>\n",
              "      <td>121.000000</td>\n",
              "      <td>124.000000</td>\n",
              "      <td>127.000000</td>\n",
              "      <td>131.000000</td>\n",
              "      <td>139.000000</td>\n",
              "      <td>145.000000</td>\n",
              "    </tr>\n",
              "  </tbody>\n",
              "</table>\n",
              "</div>"
            ],
            "text/plain": [
              "           T - 28      T - 21      T - 14  ...       T - 2       T - 1      Actual\n",
              "count  241.000000  241.000000  241.000000  ...  241.000000  241.000000  241.000000\n",
              "mean    34.261411   47.240664   64.439834  ...  101.165975  110.008299  116.381743\n",
              "std      9.387610   11.321079   13.495891  ...   17.547004   17.785057   17.629388\n",
              "min      0.000000    0.000000    0.000000  ...    0.000000    3.000000   11.000000\n",
              "25%     28.000000   41.000000   58.000000  ...   95.000000  102.000000  110.000000\n",
              "50%     35.000000   48.000000   65.000000  ...  103.000000  112.000000  117.000000\n",
              "75%     40.000000   55.000000   73.000000  ...  111.000000  119.000000  126.000000\n",
              "max     57.000000   73.000000   93.000000  ...  131.000000  139.000000  145.000000\n",
              "\n",
              "[8 rows x 17 columns]"
            ]
          },
          "metadata": {
            "tags": []
          },
          "execution_count": 11
        }
      ]
    },
    {
      "cell_type": "code",
      "metadata": {
        "id": "2qv9UnfK0965"
      },
      "source": [
        "# Average of actual surgery is 116 with standard deviation of 17.63"
      ],
      "execution_count": null,
      "outputs": []
    },
    {
      "cell_type": "code",
      "metadata": {
        "id": "6jU4A9beBCBn"
      },
      "source": [
        "df_v1=df.drop(index = df[df['Actual']<25].index)"
      ],
      "execution_count": null,
      "outputs": []
    },
    {
      "cell_type": "code",
      "metadata": {
        "colab": {
          "base_uri": "https://localhost:8080/"
        },
        "id": "6XvmdkhACOCy",
        "outputId": "540228e9-d84a-4228-872f-1a6d73edf979"
      },
      "source": [
        "df_v1.shape"
      ],
      "execution_count": null,
      "outputs": [
        {
          "output_type": "execute_result",
          "data": {
            "text/plain": [
              "(237, 19)"
            ]
          },
          "metadata": {
            "tags": []
          },
          "execution_count": 14
        }
      ]
    },
    {
      "cell_type": "code",
      "metadata": {
        "colab": {
          "base_uri": "https://localhost:8080/",
          "height": 297
        },
        "id": "4LyGKKgDCH1U",
        "outputId": "d7ac1383-3721-4c49-c12d-8a08ebf23904"
      },
      "source": [
        "sns.distplot(df_v1['Actual'])"
      ],
      "execution_count": null,
      "outputs": [
        {
          "output_type": "execute_result",
          "data": {
            "text/plain": [
              "<matplotlib.axes._subplots.AxesSubplot at 0x7fe91b0a4c18>"
            ]
          },
          "metadata": {
            "tags": []
          },
          "execution_count": 15
        },
        {
          "output_type": "display_data",
          "data": {
            "image/png": "[encoded data removed]",
            "text/plain": [
              "<Figure size 432x288 with 1 Axes>"
            ]
          },
          "metadata": {
            "tags": [],
            "needs_background": "light"
          }
        }
      ]
    },
    {
      "cell_type": "code",
      "metadata": {
        "colab": {
          "base_uri": "https://localhost:8080/",
          "height": 297
        },
        "id": "PZnJ8DGzBQw-",
        "outputId": "43956711-f3c0-416d-80e0-dad7678a67a5"
      },
      "source": [
        "df_v1.describe()"
      ],
      "execution_count": null,
      "outputs": [
        {
          "output_type": "execute_result",
          "data": {
            "text/html": [
              "<div>\n",
              "<style scoped>\n",
              "    .dataframe tbody tr th:only-of-type {\n",
              "        vertical-align: middle;\n",
              "    }\n",
              "\n",
              "    .dataframe tbody tr th {\n",
              "        vertical-align: top;\n",
              "    }\n",
              "\n",
              "    .dataframe thead th {\n",
              "        text-align: right;\n",
              "    }\n",
              "</style>\n",
              "<table border=\"1\" class=\"dataframe\">\n",
              "  <thead>\n",
              "    <tr style=\"text-align: right;\">\n",
              "      <th></th>\n",
              "      <th>T - 28</th>\n",
              "      <th>T - 21</th>\n",
              "      <th>T - 14</th>\n",
              "      <th>T - 13</th>\n",
              "      <th>T - 12</th>\n",
              "      <th>T - 11</th>\n",
              "      <th>T - 10</th>\n",
              "      <th>T - 9</th>\n",
              "      <th>T - 8</th>\n",
              "      <th>T - 7</th>\n",
              "      <th>T - 6</th>\n",
              "      <th>T - 5</th>\n",
              "      <th>T - 4</th>\n",
              "      <th>T - 3</th>\n",
              "      <th>T - 2</th>\n",
              "      <th>T - 1</th>\n",
              "      <th>Actual</th>\n",
              "    </tr>\n",
              "  </thead>\n",
              "  <tbody>\n",
              "    <tr>\n",
              "      <th>count</th>\n",
              "      <td>237.000000</td>\n",
              "      <td>237.000000</td>\n",
              "      <td>237.000000</td>\n",
              "      <td>237.000000</td>\n",
              "      <td>237.000000</td>\n",
              "      <td>237.000000</td>\n",
              "      <td>237.000000</td>\n",
              "      <td>237.000000</td>\n",
              "      <td>237.000000</td>\n",
              "      <td>237.000000</td>\n",
              "      <td>237.000000</td>\n",
              "      <td>237.000000</td>\n",
              "      <td>237.000000</td>\n",
              "      <td>237.000000</td>\n",
              "      <td>237.000000</td>\n",
              "      <td>237.000000</td>\n",
              "      <td>237.000000</td>\n",
              "    </tr>\n",
              "    <tr>\n",
              "      <th>mean</th>\n",
              "      <td>34.835443</td>\n",
              "      <td>48.033755</td>\n",
              "      <td>65.518987</td>\n",
              "      <td>68.953586</td>\n",
              "      <td>71.683544</td>\n",
              "      <td>73.578059</td>\n",
              "      <td>76.198312</td>\n",
              "      <td>79.345992</td>\n",
              "      <td>83.713080</td>\n",
              "      <td>87.434599</td>\n",
              "      <td>90.759494</td>\n",
              "      <td>93.628692</td>\n",
              "      <td>96.270042</td>\n",
              "      <td>98.995781</td>\n",
              "      <td>102.831224</td>\n",
              "      <td>111.759494</td>\n",
              "      <td>118.105485</td>\n",
              "    </tr>\n",
              "    <tr>\n",
              "      <th>std</th>\n",
              "      <td>8.347481</td>\n",
              "      <td>9.606171</td>\n",
              "      <td>10.712571</td>\n",
              "      <td>11.268392</td>\n",
              "      <td>11.853138</td>\n",
              "      <td>11.785837</td>\n",
              "      <td>11.699573</td>\n",
              "      <td>11.292271</td>\n",
              "      <td>11.514635</td>\n",
              "      <td>11.776923</td>\n",
              "      <td>12.511908</td>\n",
              "      <td>12.798855</td>\n",
              "      <td>12.609641</td>\n",
              "      <td>12.464015</td>\n",
              "      <td>12.050257</td>\n",
              "      <td>11.658141</td>\n",
              "      <td>11.671050</td>\n",
              "    </tr>\n",
              "    <tr>\n",
              "      <th>min</th>\n",
              "      <td>10.000000</td>\n",
              "      <td>21.000000</td>\n",
              "      <td>41.000000</td>\n",
              "      <td>41.000000</td>\n",
              "      <td>41.000000</td>\n",
              "      <td>41.000000</td>\n",
              "      <td>40.000000</td>\n",
              "      <td>49.000000</td>\n",
              "      <td>54.000000</td>\n",
              "      <td>57.000000</td>\n",
              "      <td>57.000000</td>\n",
              "      <td>57.000000</td>\n",
              "      <td>62.000000</td>\n",
              "      <td>63.000000</td>\n",
              "      <td>70.000000</td>\n",
              "      <td>82.000000</td>\n",
              "      <td>90.000000</td>\n",
              "    </tr>\n",
              "    <tr>\n",
              "      <th>25%</th>\n",
              "      <td>29.000000</td>\n",
              "      <td>41.000000</td>\n",
              "      <td>59.000000</td>\n",
              "      <td>62.000000</td>\n",
              "      <td>64.000000</td>\n",
              "      <td>66.000000</td>\n",
              "      <td>68.000000</td>\n",
              "      <td>72.000000</td>\n",
              "      <td>76.000000</td>\n",
              "      <td>80.000000</td>\n",
              "      <td>83.000000</td>\n",
              "      <td>85.000000</td>\n",
              "      <td>88.000000</td>\n",
              "      <td>92.000000</td>\n",
              "      <td>95.000000</td>\n",
              "      <td>102.000000</td>\n",
              "      <td>111.000000</td>\n",
              "    </tr>\n",
              "    <tr>\n",
              "      <th>50%</th>\n",
              "      <td>35.000000</td>\n",
              "      <td>48.000000</td>\n",
              "      <td>65.000000</td>\n",
              "      <td>69.000000</td>\n",
              "      <td>72.000000</td>\n",
              "      <td>74.000000</td>\n",
              "      <td>77.000000</td>\n",
              "      <td>79.000000</td>\n",
              "      <td>85.000000</td>\n",
              "      <td>87.000000</td>\n",
              "      <td>91.000000</td>\n",
              "      <td>94.000000</td>\n",
              "      <td>97.000000</td>\n",
              "      <td>100.000000</td>\n",
              "      <td>104.000000</td>\n",
              "      <td>112.000000</td>\n",
              "      <td>118.000000</td>\n",
              "    </tr>\n",
              "    <tr>\n",
              "      <th>75%</th>\n",
              "      <td>41.000000</td>\n",
              "      <td>55.000000</td>\n",
              "      <td>73.000000</td>\n",
              "      <td>77.000000</td>\n",
              "      <td>80.000000</td>\n",
              "      <td>82.000000</td>\n",
              "      <td>84.000000</td>\n",
              "      <td>86.000000</td>\n",
              "      <td>92.000000</td>\n",
              "      <td>96.000000</td>\n",
              "      <td>99.000000</td>\n",
              "      <td>103.000000</td>\n",
              "      <td>106.000000</td>\n",
              "      <td>107.000000</td>\n",
              "      <td>111.000000</td>\n",
              "      <td>120.000000</td>\n",
              "      <td>126.000000</td>\n",
              "    </tr>\n",
              "    <tr>\n",
              "      <th>max</th>\n",
              "      <td>57.000000</td>\n",
              "      <td>73.000000</td>\n",
              "      <td>93.000000</td>\n",
              "      <td>99.000000</td>\n",
              "      <td>102.000000</td>\n",
              "      <td>106.000000</td>\n",
              "      <td>106.000000</td>\n",
              "      <td>112.000000</td>\n",
              "      <td>113.000000</td>\n",
              "      <td>118.000000</td>\n",
              "      <td>121.000000</td>\n",
              "      <td>121.000000</td>\n",
              "      <td>124.000000</td>\n",
              "      <td>127.000000</td>\n",
              "      <td>131.000000</td>\n",
              "      <td>139.000000</td>\n",
              "      <td>145.000000</td>\n",
              "    </tr>\n",
              "  </tbody>\n",
              "</table>\n",
              "</div>"
            ],
            "text/plain": [
              "           T - 28      T - 21      T - 14  ...       T - 2       T - 1      Actual\n",
              "count  237.000000  237.000000  237.000000  ...  237.000000  237.000000  237.000000\n",
              "mean    34.835443   48.033755   65.518987  ...  102.831224  111.759494  118.105485\n",
              "std      8.347481    9.606171   10.712571  ...   12.050257   11.658141   11.671050\n",
              "min     10.000000   21.000000   41.000000  ...   70.000000   82.000000   90.000000\n",
              "25%     29.000000   41.000000   59.000000  ...   95.000000  102.000000  111.000000\n",
              "50%     35.000000   48.000000   65.000000  ...  104.000000  112.000000  118.000000\n",
              "75%     41.000000   55.000000   73.000000  ...  111.000000  120.000000  126.000000\n",
              "max     57.000000   73.000000   93.000000  ...  131.000000  139.000000  145.000000\n",
              "\n",
              "[8 rows x 17 columns]"
            ]
          },
          "metadata": {
            "tags": []
          },
          "execution_count": 16
        }
      ]
    },
    {
      "cell_type": "code",
      "metadata": {
        "id": "yZSASQXKC1h-"
      },
      "source": [
        "# Average of actual surgery is 118 with standard deviation of 11.67\n",
        "#earlier\n",
        "# Average of actual surgery is 116 with standard deviation of 17.63"
      ],
      "execution_count": null,
      "outputs": []
    },
    {
      "cell_type": "code",
      "metadata": {
        "colab": {
          "base_uri": "https://localhost:8080/",
          "height": 612
        },
        "id": "ElaPzQho8u_j",
        "outputId": "77d4e2e1-f2bc-424a-fced-c075261af05e"
      },
      "source": [
        "fig, ax = plt.subplots(figsize=(20,10))\n",
        "sns.heatmap(df_v1.corr(),annot= True, ax=ax)"
      ],
      "execution_count": null,
      "outputs": [
        {
          "output_type": "execute_result",
          "data": {
            "text/plain": [
              "<matplotlib.axes._subplots.AxesSubplot at 0x7fe91abcdc50>"
            ]
          },
          "metadata": {
            "tags": []
          },
          "execution_count": 18
        },
        {
          "output_type": "display_data",
          "data": {
            "image/png": "[encoded data removed]",
            "text/plain": [
              "<Figure size 1440x720 with 2 Axes>"
            ]
          },
          "metadata": {
            "tags": [],
            "needs_background": "light"
          }
        }
      ]
    },
    {
      "cell_type": "code",
      "metadata": {
        "id": "VZIg48gy0964"
      },
      "source": [
        "# Corr(T-1,Actual)=0.964, new=0.92\n",
        "# Corr(T-3,Actual)=0.913, new=0.82\n",
        "# Corr(T-7,Actual)=0.896, new=0.79\n",
        "# Corr(T-14,Actual)=0.801, new=0.65\n",
        "# Corr(T-21,Actual)=0.702, new=0.53\n",
        "# Corr(T-28,Actual)=0.608, new=0.44\n",
        "\n",
        "# Average number of surgery cases increases  as we move closer to actual day\n",
        "# As the gap from surgery day increase, the correlation decreases\n",
        "# From the correlation matrix, almost all the correlations are significantly high."
      ],
      "execution_count": null,
      "outputs": []
    },
    {
      "cell_type": "code",
      "metadata": {
        "colab": {
          "base_uri": "https://localhost:8080/"
        },
        "id": "-Eit7KpSJmBU",
        "outputId": "d511327d-43e7-4202-a874-67d24062b58a"
      },
      "source": [
        "df.groupby('DOW')['Actual'].mean(), df.groupby('DOW')['Actual'].std()"
      ],
      "execution_count": null,
      "outputs": [
        {
          "output_type": "execute_result",
          "data": {
            "text/plain": [
              "(DOW\n",
              " Fri    105.612245\n",
              " Mon    116.255319\n",
              " Thu    124.083333\n",
              " Tue    119.081633\n",
              " Wed    117.041667\n",
              " Name: Actual, dtype: float64, DOW\n",
              " Fri    26.357175\n",
              " Mon    18.456138\n",
              " Thu    10.379672\n",
              " Tue    10.864385\n",
              " Wed    11.240047\n",
              " Name: Actual, dtype: float64)"
            ]
          },
          "metadata": {
            "tags": []
          },
          "execution_count": 20
        }
      ]
    },
    {
      "cell_type": "code",
      "metadata": {
        "colab": {
          "base_uri": "https://localhost:8080/",
          "height": 282
        },
        "id": "sjPNcQ1A0965",
        "outputId": "48801f37-f7e7-436a-9de3-4130862182dc"
      },
      "source": [
        "x1=df['DOW'].unique()\n",
        "sns.barplot(x=x1, y=df.groupby('DOW')['Actual'].mean(), palette=\"rocket\")"
      ],
      "execution_count": null,
      "outputs": [
        {
          "output_type": "execute_result",
          "data": {
            "text/plain": [
              "<matplotlib.axes._subplots.AxesSubplot at 0x7fe9120f2400>"
            ]
          },
          "metadata": {
            "tags": []
          },
          "execution_count": 21
        },
        {
          "output_type": "display_data",
          "data": {
            "image/png": "[encoded data removed]",
            "text/plain": [
              "<Figure size 432x288 with 1 Axes>"
            ]
          },
          "metadata": {
            "tags": [],
            "needs_background": "light"
          }
        }
      ]
    },
    {
      "cell_type": "code",
      "metadata": {
        "colab": {
          "base_uri": "https://localhost:8080/",
          "height": 282
        },
        "id": "Doz2vM3wJciI",
        "outputId": "2514bda2-6811-4947-8b2a-a0a93053258d"
      },
      "source": [
        "x1=df['DOW'].unique()\n",
        "sns.barplot(x=x1, y=df.groupby('DOW')['Actual'].std(), palette=\"rocket\")"
      ],
      "execution_count": null,
      "outputs": [
        {
          "output_type": "execute_result",
          "data": {
            "text/plain": [
              "<matplotlib.axes._subplots.AxesSubplot at 0x7fe91207afd0>"
            ]
          },
          "metadata": {
            "tags": []
          },
          "execution_count": 22
        },
        {
          "output_type": "display_data",
          "data": {
            "image/png": "[encoded data removed]",
            "text/plain": [
              "<Figure size 432x288 with 1 Axes>"
            ]
          },
          "metadata": {
            "tags": [],
            "needs_background": "light"
          }
        }
      ]
    },
    {
      "cell_type": "code",
      "metadata": {
        "colab": {
          "base_uri": "https://localhost:8080/"
        },
        "id": "LCGokrUsDZAo",
        "outputId": "9f5adc2e-457c-47aa-d9c3-6bbef5214d6a"
      },
      "source": [
        "df_v1.groupby('DOW')['Actual'].mean(), df.groupby('DOW')['Actual'].std()"
      ],
      "execution_count": null,
      "outputs": [
        {
          "output_type": "execute_result",
          "data": {
            "text/plain": [
              "(DOW\n",
              " Fri    111.608696\n",
              " Mon    118.434783\n",
              " Thu    124.083333\n",
              " Tue    119.081633\n",
              " Wed    117.041667\n",
              " Name: Actual, dtype: float64, DOW\n",
              " Fri    26.357175\n",
              " Mon    18.456138\n",
              " Thu    10.379672\n",
              " Tue    10.864385\n",
              " Wed    11.240047\n",
              " Name: Actual, dtype: float64)"
            ]
          },
          "metadata": {
            "tags": []
          },
          "execution_count": 23
        }
      ]
    },
    {
      "cell_type": "code",
      "metadata": {
        "id": "KvSRkG080965",
        "colab": {
          "base_uri": "https://localhost:8080/"
        },
        "outputId": "ec220c1e-5e2d-4d71-9349-555791e4609c"
      },
      "source": [
        "# Validating for T - 1\n",
        "df.groupby('DOW')['T - 1'].mean(), df.groupby('DOW')['T - 1'].std()"
      ],
      "execution_count": null,
      "outputs": [
        {
          "output_type": "execute_result",
          "data": {
            "text/plain": [
              "(DOW\n",
              " Fri     97.428571\n",
              " Mon    110.787234\n",
              " Thu    117.583333\n",
              " Tue    114.020408\n",
              " Wed    110.416667\n",
              " Name: T - 1, dtype: float64, DOW\n",
              " Fri    25.922159\n",
              " Mon    18.863279\n",
              " Thu    10.394011\n",
              " Tue    10.296621\n",
              " Wed    11.100764\n",
              " Name: T - 1, dtype: float64)"
            ]
          },
          "metadata": {
            "tags": []
          },
          "execution_count": 24
        }
      ]
    },
    {
      "cell_type": "code",
      "metadata": {
        "colab": {
          "base_uri": "https://localhost:8080/"
        },
        "id": "yTaVRcA6FIcM",
        "outputId": "21f646ad-def7-4cac-ad2e-6325d25ed378"
      },
      "source": [
        "# Validating for T - 1\n",
        "df_v1.groupby('DOW')['T - 1'].mean(), df.groupby('DOW')['T - 1'].std()"
      ],
      "execution_count": null,
      "outputs": [
        {
          "output_type": "execute_result",
          "data": {
            "text/plain": [
              "(DOW\n",
              " Fri    103.304348\n",
              " Mon    113.130435\n",
              " Thu    117.583333\n",
              " Tue    114.020408\n",
              " Wed    110.416667\n",
              " Name: T - 1, dtype: float64, DOW\n",
              " Fri    25.922159\n",
              " Mon    18.863279\n",
              " Thu    10.394011\n",
              " Tue    10.296621\n",
              " Wed    11.100764\n",
              " Name: T - 1, dtype: float64)"
            ]
          },
          "metadata": {
            "tags": []
          },
          "execution_count": 25
        }
      ]
    },
    {
      "cell_type": "code",
      "metadata": {
        "scrolled": true,
        "colab": {
          "base_uri": "https://localhost:8080/",
          "height": 279
        },
        "id": "X6mJaMEI0965",
        "outputId": "1ec9fdee-b09e-40d4-bd45-3a2dfa27a0ba"
      },
      "source": [
        "# Trend of Number of Surgeries performed by Day of Week\n",
        "df2 = df[['DOW', 'Actual']]\n",
        "ax = sns.barplot(x='DOW',y='Actual', data=df, palette='coolwarm')"
      ],
      "execution_count": null,
      "outputs": [
        {
          "output_type": "display_data",
          "data": {
            "image/png": "[encoded data removed]",
            "text/plain": [
              "<Figure size 432x288 with 1 Axes>"
            ]
          },
          "metadata": {
            "tags": [],
            "needs_background": "light"
          }
        }
      ]
    },
    {
      "cell_type": "code",
      "metadata": {
        "id": "50TEDhbu0966",
        "colab": {
          "base_uri": "https://localhost:8080/",
          "height": 296
        },
        "outputId": "739d110f-ae0e-4602-dc84-415e1a6aef5d"
      },
      "source": [
        "sns.boxplot(x='DOW',y='Actual', data=df, palette='coolwarm')"
      ],
      "execution_count": null,
      "outputs": [
        {
          "output_type": "execute_result",
          "data": {
            "text/plain": [
              "<matplotlib.axes._subplots.AxesSubplot at 0x7fe91075de48>"
            ]
          },
          "metadata": {
            "tags": []
          },
          "execution_count": 27
        },
        {
          "output_type": "display_data",
          "data": {
            "image/png": "[encoded data removed]",
            "text/plain": [
              "<Figure size 432x288 with 1 Axes>"
            ]
          },
          "metadata": {
            "tags": [],
            "needs_background": "light"
          }
        }
      ]
    },
    {
      "cell_type": "code",
      "metadata": {
        "id": "3I5fv62L0966"
      },
      "source": [
        "# Fridays have lowest number of surgeries which may be indicate surgeon preferences\n",
        "# Thursdays have lowest number of surgeries\n",
        "# Alternatively, the high number of surgeries on Thursday might be due to add-on cases"
      ],
      "execution_count": null,
      "outputs": []
    },
    {
      "cell_type": "code",
      "metadata": {
        "id": "oEe6O6WK0966",
        "colab": {
          "base_uri": "https://localhost:8080/"
        },
        "outputId": "0b2731cd-bb8c-407c-8643-9a475e7694f6"
      },
      "source": [
        "test=df.loc[0:240, 'T - 28':'T - 1']\n",
        "test.shape"
      ],
      "execution_count": null,
      "outputs": [
        {
          "output_type": "execute_result",
          "data": {
            "text/plain": [
              "(241, 16)"
            ]
          },
          "metadata": {
            "tags": []
          },
          "execution_count": 29
        }
      ]
    },
    {
      "cell_type": "code",
      "metadata": {
        "id": "-mjMfvjh0966"
      },
      "source": [
        "mean = test.mean()\n",
        "maximum = test.max()\n",
        "std = test.std()"
      ],
      "execution_count": null,
      "outputs": []
    },
    {
      "cell_type": "code",
      "metadata": {
        "id": "R2zj0MkK0967",
        "colab": {
          "base_uri": "https://localhost:8080/",
          "height": 545
        },
        "outputId": "9ad7e8ea-a630-4461-9a28-c070ac0931b5"
      },
      "source": [
        "a = pd.DataFrame(mean)\n",
        "b = pd.DataFrame(maximum)\n",
        "c = pd.DataFrame(std)\n",
        "new = pd.concat([a,b,c], axis = 1)\n",
        "new.columns = ['Mean', 'Maximum', 'Standard Deviation']\n",
        "new"
      ],
      "execution_count": null,
      "outputs": [
        {
          "output_type": "execute_result",
          "data": {
            "text/html": [
              "<div>\n",
              "<style scoped>\n",
              "    .dataframe tbody tr th:only-of-type {\n",
              "        vertical-align: middle;\n",
              "    }\n",
              "\n",
              "    .dataframe tbody tr th {\n",
              "        vertical-align: top;\n",
              "    }\n",
              "\n",
              "    .dataframe thead th {\n",
              "        text-align: right;\n",
              "    }\n",
              "</style>\n",
              "<table border=\"1\" class=\"dataframe\">\n",
              "  <thead>\n",
              "    <tr style=\"text-align: right;\">\n",
              "      <th></th>\n",
              "      <th>Mean</th>\n",
              "      <th>Maximum</th>\n",
              "      <th>Standard Deviation</th>\n",
              "    </tr>\n",
              "  </thead>\n",
              "  <tbody>\n",
              "    <tr>\n",
              "      <th>T - 28</th>\n",
              "      <td>34.261411</td>\n",
              "      <td>57</td>\n",
              "      <td>9.387610</td>\n",
              "    </tr>\n",
              "    <tr>\n",
              "      <th>T - 21</th>\n",
              "      <td>47.240664</td>\n",
              "      <td>73</td>\n",
              "      <td>11.321079</td>\n",
              "    </tr>\n",
              "    <tr>\n",
              "      <th>T - 14</th>\n",
              "      <td>64.439834</td>\n",
              "      <td>93</td>\n",
              "      <td>13.495891</td>\n",
              "    </tr>\n",
              "    <tr>\n",
              "      <th>T - 13</th>\n",
              "      <td>67.817427</td>\n",
              "      <td>99</td>\n",
              "      <td>14.200934</td>\n",
              "    </tr>\n",
              "    <tr>\n",
              "      <th>T - 12</th>\n",
              "      <td>70.502075</td>\n",
              "      <td>102</td>\n",
              "      <td>14.873109</td>\n",
              "    </tr>\n",
              "    <tr>\n",
              "      <th>T - 11</th>\n",
              "      <td>72.365145</td>\n",
              "      <td>106</td>\n",
              "      <td>14.970786</td>\n",
              "    </tr>\n",
              "    <tr>\n",
              "      <th>T - 10</th>\n",
              "      <td>74.946058</td>\n",
              "      <td>106</td>\n",
              "      <td>15.096674</td>\n",
              "    </tr>\n",
              "    <tr>\n",
              "      <th>T - 9</th>\n",
              "      <td>78.041494</td>\n",
              "      <td>112</td>\n",
              "      <td>15.054842</td>\n",
              "    </tr>\n",
              "    <tr>\n",
              "      <th>T - 8</th>\n",
              "      <td>82.336100</td>\n",
              "      <td>113</td>\n",
              "      <td>15.594841</td>\n",
              "    </tr>\n",
              "    <tr>\n",
              "      <th>T - 7</th>\n",
              "      <td>86.000000</td>\n",
              "      <td>118</td>\n",
              "      <td>16.089075</td>\n",
              "    </tr>\n",
              "    <tr>\n",
              "      <th>T - 6</th>\n",
              "      <td>89.269710</td>\n",
              "      <td>121</td>\n",
              "      <td>16.911962</td>\n",
              "    </tr>\n",
              "    <tr>\n",
              "      <th>T - 5</th>\n",
              "      <td>92.091286</td>\n",
              "      <td>121</td>\n",
              "      <td>17.370472</td>\n",
              "    </tr>\n",
              "    <tr>\n",
              "      <th>T - 4</th>\n",
              "      <td>94.688797</td>\n",
              "      <td>124</td>\n",
              "      <td>17.468264</td>\n",
              "    </tr>\n",
              "    <tr>\n",
              "      <th>T - 3</th>\n",
              "      <td>97.373444</td>\n",
              "      <td>127</td>\n",
              "      <td>17.589816</td>\n",
              "    </tr>\n",
              "    <tr>\n",
              "      <th>T - 2</th>\n",
              "      <td>101.165975</td>\n",
              "      <td>131</td>\n",
              "      <td>17.547004</td>\n",
              "    </tr>\n",
              "    <tr>\n",
              "      <th>T - 1</th>\n",
              "      <td>110.008299</td>\n",
              "      <td>139</td>\n",
              "      <td>17.785057</td>\n",
              "    </tr>\n",
              "  </tbody>\n",
              "</table>\n",
              "</div>"
            ],
            "text/plain": [
              "              Mean  Maximum  Standard Deviation\n",
              "T - 28   34.261411       57            9.387610\n",
              "T - 21   47.240664       73           11.321079\n",
              "T - 14   64.439834       93           13.495891\n",
              "T - 13   67.817427       99           14.200934\n",
              "T - 12   70.502075      102           14.873109\n",
              "T - 11   72.365145      106           14.970786\n",
              "T - 10   74.946058      106           15.096674\n",
              "T - 9    78.041494      112           15.054842\n",
              "T - 8    82.336100      113           15.594841\n",
              "T - 7    86.000000      118           16.089075\n",
              "T - 6    89.269710      121           16.911962\n",
              "T - 5    92.091286      121           17.370472\n",
              "T - 4    94.688797      124           17.468264\n",
              "T - 3    97.373444      127           17.589816\n",
              "T - 2   101.165975      131           17.547004\n",
              "T - 1   110.008299      139           17.785057"
            ]
          },
          "metadata": {
            "tags": []
          },
          "execution_count": 31
        }
      ]
    },
    {
      "cell_type": "code",
      "metadata": {
        "colab": {
          "base_uri": "https://localhost:8080/"
        },
        "id": "6udWw9zTWXls",
        "outputId": "f340430e-aaaa-428d-941d-e35adb4960d7"
      },
      "source": [
        "test=df_v1.loc[0:240, 'T - 28':'T - 1']\n",
        "test.shape"
      ],
      "execution_count": null,
      "outputs": [
        {
          "output_type": "execute_result",
          "data": {
            "text/plain": [
              "(237, 16)"
            ]
          },
          "metadata": {
            "tags": []
          },
          "execution_count": 32
        }
      ]
    },
    {
      "cell_type": "code",
      "metadata": {
        "id": "zuLmH1BNWkbo"
      },
      "source": [
        "mean = test.mean()\n",
        "maximum = test.max()\n",
        "std = test.std()"
      ],
      "execution_count": null,
      "outputs": []
    },
    {
      "cell_type": "code",
      "metadata": {
        "colab": {
          "base_uri": "https://localhost:8080/",
          "height": 545
        },
        "id": "xl8XLFBjWnAh",
        "outputId": "fbf3be89-1567-4518-926d-2547052de363"
      },
      "source": [
        "a = pd.DataFrame(mean)\n",
        "b = pd.DataFrame(maximum)\n",
        "c = pd.DataFrame(std)\n",
        "new = pd.concat([a,b,c], axis = 1)\n",
        "new.columns = ['Mean', 'Maximum', 'Standard Deviation']\n",
        "new"
      ],
      "execution_count": null,
      "outputs": [
        {
          "output_type": "execute_result",
          "data": {
            "text/html": [
              "<div>\n",
              "<style scoped>\n",
              "    .dataframe tbody tr th:only-of-type {\n",
              "        vertical-align: middle;\n",
              "    }\n",
              "\n",
              "    .dataframe tbody tr th {\n",
              "        vertical-align: top;\n",
              "    }\n",
              "\n",
              "    .dataframe thead th {\n",
              "        text-align: right;\n",
              "    }\n",
              "</style>\n",
              "<table border=\"1\" class=\"dataframe\">\n",
              "  <thead>\n",
              "    <tr style=\"text-align: right;\">\n",
              "      <th></th>\n",
              "      <th>Mean</th>\n",
              "      <th>Maximum</th>\n",
              "      <th>Standard Deviation</th>\n",
              "    </tr>\n",
              "  </thead>\n",
              "  <tbody>\n",
              "    <tr>\n",
              "      <th>T - 28</th>\n",
              "      <td>34.835443</td>\n",
              "      <td>57</td>\n",
              "      <td>8.347481</td>\n",
              "    </tr>\n",
              "    <tr>\n",
              "      <th>T - 21</th>\n",
              "      <td>48.033755</td>\n",
              "      <td>73</td>\n",
              "      <td>9.606171</td>\n",
              "    </tr>\n",
              "    <tr>\n",
              "      <th>T - 14</th>\n",
              "      <td>65.518987</td>\n",
              "      <td>93</td>\n",
              "      <td>10.712571</td>\n",
              "    </tr>\n",
              "    <tr>\n",
              "      <th>T - 13</th>\n",
              "      <td>68.953586</td>\n",
              "      <td>99</td>\n",
              "      <td>11.268392</td>\n",
              "    </tr>\n",
              "    <tr>\n",
              "      <th>T - 12</th>\n",
              "      <td>71.683544</td>\n",
              "      <td>102</td>\n",
              "      <td>11.853138</td>\n",
              "    </tr>\n",
              "    <tr>\n",
              "      <th>T - 11</th>\n",
              "      <td>73.578059</td>\n",
              "      <td>106</td>\n",
              "      <td>11.785837</td>\n",
              "    </tr>\n",
              "    <tr>\n",
              "      <th>T - 10</th>\n",
              "      <td>76.198312</td>\n",
              "      <td>106</td>\n",
              "      <td>11.699573</td>\n",
              "    </tr>\n",
              "    <tr>\n",
              "      <th>T - 9</th>\n",
              "      <td>79.345992</td>\n",
              "      <td>112</td>\n",
              "      <td>11.292271</td>\n",
              "    </tr>\n",
              "    <tr>\n",
              "      <th>T - 8</th>\n",
              "      <td>83.713080</td>\n",
              "      <td>113</td>\n",
              "      <td>11.514635</td>\n",
              "    </tr>\n",
              "    <tr>\n",
              "      <th>T - 7</th>\n",
              "      <td>87.434599</td>\n",
              "      <td>118</td>\n",
              "      <td>11.776923</td>\n",
              "    </tr>\n",
              "    <tr>\n",
              "      <th>T - 6</th>\n",
              "      <td>90.759494</td>\n",
              "      <td>121</td>\n",
              "      <td>12.511908</td>\n",
              "    </tr>\n",
              "    <tr>\n",
              "      <th>T - 5</th>\n",
              "      <td>93.628692</td>\n",
              "      <td>121</td>\n",
              "      <td>12.798855</td>\n",
              "    </tr>\n",
              "    <tr>\n",
              "      <th>T - 4</th>\n",
              "      <td>96.270042</td>\n",
              "      <td>124</td>\n",
              "      <td>12.609641</td>\n",
              "    </tr>\n",
              "    <tr>\n",
              "      <th>T - 3</th>\n",
              "      <td>98.995781</td>\n",
              "      <td>127</td>\n",
              "      <td>12.464015</td>\n",
              "    </tr>\n",
              "    <tr>\n",
              "      <th>T - 2</th>\n",
              "      <td>102.831224</td>\n",
              "      <td>131</td>\n",
              "      <td>12.050257</td>\n",
              "    </tr>\n",
              "    <tr>\n",
              "      <th>T - 1</th>\n",
              "      <td>111.759494</td>\n",
              "      <td>139</td>\n",
              "      <td>11.658141</td>\n",
              "    </tr>\n",
              "  </tbody>\n",
              "</table>\n",
              "</div>"
            ],
            "text/plain": [
              "              Mean  Maximum  Standard Deviation\n",
              "T - 28   34.835443       57            8.347481\n",
              "T - 21   48.033755       73            9.606171\n",
              "T - 14   65.518987       93           10.712571\n",
              "T - 13   68.953586       99           11.268392\n",
              "T - 12   71.683544      102           11.853138\n",
              "T - 11   73.578059      106           11.785837\n",
              "T - 10   76.198312      106           11.699573\n",
              "T - 9    79.345992      112           11.292271\n",
              "T - 8    83.713080      113           11.514635\n",
              "T - 7    87.434599      118           11.776923\n",
              "T - 6    90.759494      121           12.511908\n",
              "T - 5    93.628692      121           12.798855\n",
              "T - 4    96.270042      124           12.609641\n",
              "T - 3    98.995781      127           12.464015\n",
              "T - 2   102.831224      131           12.050257\n",
              "T - 1   111.759494      139           11.658141"
            ]
          },
          "metadata": {
            "tags": []
          },
          "execution_count": 34
        }
      ]
    },
    {
      "cell_type": "code",
      "metadata": {
        "colab": {
          "base_uri": "https://localhost:8080/",
          "height": 80
        },
        "id": "u38VXz9opCPy",
        "outputId": "7370c987-fd0c-4a3b-a7de-297520792a9c"
      },
      "source": [
        "df_v1[df_v1['SurgDate']=='8/27/2012']"
      ],
      "execution_count": null,
      "outputs": [
        {
          "output_type": "execute_result",
          "data": {
            "text/html": [
              "<div>\n",
              "<style scoped>\n",
              "    .dataframe tbody tr th:only-of-type {\n",
              "        vertical-align: middle;\n",
              "    }\n",
              "\n",
              "    .dataframe tbody tr th {\n",
              "        vertical-align: top;\n",
              "    }\n",
              "\n",
              "    .dataframe thead th {\n",
              "        text-align: right;\n",
              "    }\n",
              "</style>\n",
              "<table border=\"1\" class=\"dataframe\">\n",
              "  <thead>\n",
              "    <tr style=\"text-align: right;\">\n",
              "      <th></th>\n",
              "      <th>SurgDate</th>\n",
              "      <th>DOW</th>\n",
              "      <th>T - 28</th>\n",
              "      <th>T - 21</th>\n",
              "      <th>T - 14</th>\n",
              "      <th>T - 13</th>\n",
              "      <th>T - 12</th>\n",
              "      <th>T - 11</th>\n",
              "      <th>T - 10</th>\n",
              "      <th>T - 9</th>\n",
              "      <th>T - 8</th>\n",
              "      <th>T - 7</th>\n",
              "      <th>T - 6</th>\n",
              "      <th>T - 5</th>\n",
              "      <th>T - 4</th>\n",
              "      <th>T - 3</th>\n",
              "      <th>T - 2</th>\n",
              "      <th>T - 1</th>\n",
              "      <th>Actual</th>\n",
              "    </tr>\n",
              "  </thead>\n",
              "  <tbody>\n",
              "    <tr>\n",
              "      <th>227</th>\n",
              "      <td>2012-08-27</td>\n",
              "      <td>Mon</td>\n",
              "      <td>40</td>\n",
              "      <td>44</td>\n",
              "      <td>66</td>\n",
              "      <td>69</td>\n",
              "      <td>79</td>\n",
              "      <td>82</td>\n",
              "      <td>85</td>\n",
              "      <td>85</td>\n",
              "      <td>86</td>\n",
              "      <td>92</td>\n",
              "      <td>98</td>\n",
              "      <td>107</td>\n",
              "      <td>109</td>\n",
              "      <td>111</td>\n",
              "      <td>116</td>\n",
              "      <td>123</td>\n",
              "      <td>127</td>\n",
              "    </tr>\n",
              "  </tbody>\n",
              "</table>\n",
              "</div>"
            ],
            "text/plain": [
              "      SurgDate  DOW  T - 28  T - 21  T - 14  ...  T - 4  T - 3  T - 2  T - 1  Actual\n",
              "227 2012-08-27  Mon      40      44      66  ...    109    111    116    123     127\n",
              "\n",
              "[1 rows x 19 columns]"
            ]
          },
          "metadata": {
            "tags": []
          },
          "execution_count": 35
        }
      ]
    },
    {
      "cell_type": "code",
      "metadata": {
        "id": "3mG9iLRXdnxL"
      },
      "source": [
        "df_train = df_v1.loc[0:226]\n",
        "df_train.drop(['SurgDate','DOW'], axis=1, inplace=True)"
      ],
      "execution_count": null,
      "outputs": []
    },
    {
      "cell_type": "code",
      "metadata": {
        "colab": {
          "base_uri": "https://localhost:8080/",
          "height": 419
        },
        "id": "FXH2-_ZDdoTJ",
        "outputId": "b1eb7e9a-c72f-4924-f1c8-c8295bd153a3"
      },
      "source": [
        "df_train"
      ],
      "execution_count": null,
      "outputs": [
        {
          "output_type": "execute_result",
          "data": {
            "text/html": [
              "<div>\n",
              "<style scoped>\n",
              "    .dataframe tbody tr th:only-of-type {\n",
              "        vertical-align: middle;\n",
              "    }\n",
              "\n",
              "    .dataframe tbody tr th {\n",
              "        vertical-align: top;\n",
              "    }\n",
              "\n",
              "    .dataframe thead th {\n",
              "        text-align: right;\n",
              "    }\n",
              "</style>\n",
              "<table border=\"1\" class=\"dataframe\">\n",
              "  <thead>\n",
              "    <tr style=\"text-align: right;\">\n",
              "      <th></th>\n",
              "      <th>T - 28</th>\n",
              "      <th>T - 21</th>\n",
              "      <th>T - 14</th>\n",
              "      <th>T - 13</th>\n",
              "      <th>T - 12</th>\n",
              "      <th>T - 11</th>\n",
              "      <th>T - 10</th>\n",
              "      <th>T - 9</th>\n",
              "      <th>T - 8</th>\n",
              "      <th>T - 7</th>\n",
              "      <th>T - 6</th>\n",
              "      <th>T - 5</th>\n",
              "      <th>T - 4</th>\n",
              "      <th>T - 3</th>\n",
              "      <th>T - 2</th>\n",
              "      <th>T - 1</th>\n",
              "      <th>Actual</th>\n",
              "    </tr>\n",
              "  </thead>\n",
              "  <tbody>\n",
              "    <tr>\n",
              "      <th>0</th>\n",
              "      <td>38</td>\n",
              "      <td>45</td>\n",
              "      <td>60</td>\n",
              "      <td>63</td>\n",
              "      <td>65</td>\n",
              "      <td>70</td>\n",
              "      <td>73</td>\n",
              "      <td>73</td>\n",
              "      <td>73</td>\n",
              "      <td>80</td>\n",
              "      <td>84</td>\n",
              "      <td>89</td>\n",
              "      <td>94</td>\n",
              "      <td>98</td>\n",
              "      <td>100</td>\n",
              "      <td>104</td>\n",
              "      <td>106</td>\n",
              "    </tr>\n",
              "    <tr>\n",
              "      <th>1</th>\n",
              "      <td>35</td>\n",
              "      <td>47</td>\n",
              "      <td>65</td>\n",
              "      <td>68</td>\n",
              "      <td>78</td>\n",
              "      <td>82</td>\n",
              "      <td>82</td>\n",
              "      <td>82</td>\n",
              "      <td>86</td>\n",
              "      <td>89</td>\n",
              "      <td>92</td>\n",
              "      <td>95</td>\n",
              "      <td>99</td>\n",
              "      <td>99</td>\n",
              "      <td>99</td>\n",
              "      <td>114</td>\n",
              "      <td>121</td>\n",
              "    </tr>\n",
              "    <tr>\n",
              "      <th>2</th>\n",
              "      <td>26</td>\n",
              "      <td>43</td>\n",
              "      <td>54</td>\n",
              "      <td>62</td>\n",
              "      <td>72</td>\n",
              "      <td>72</td>\n",
              "      <td>72</td>\n",
              "      <td>74</td>\n",
              "      <td>87</td>\n",
              "      <td>94</td>\n",
              "      <td>96</td>\n",
              "      <td>101</td>\n",
              "      <td>102</td>\n",
              "      <td>102</td>\n",
              "      <td>106</td>\n",
              "      <td>114</td>\n",
              "      <td>126</td>\n",
              "    </tr>\n",
              "    <tr>\n",
              "      <th>3</th>\n",
              "      <td>28</td>\n",
              "      <td>48</td>\n",
              "      <td>65</td>\n",
              "      <td>70</td>\n",
              "      <td>72</td>\n",
              "      <td>72</td>\n",
              "      <td>72</td>\n",
              "      <td>82</td>\n",
              "      <td>87</td>\n",
              "      <td>91</td>\n",
              "      <td>94</td>\n",
              "      <td>94</td>\n",
              "      <td>94</td>\n",
              "      <td>97</td>\n",
              "      <td>98</td>\n",
              "      <td>103</td>\n",
              "      <td>114</td>\n",
              "    </tr>\n",
              "    <tr>\n",
              "      <th>4</th>\n",
              "      <td>31</td>\n",
              "      <td>40</td>\n",
              "      <td>50</td>\n",
              "      <td>50</td>\n",
              "      <td>50</td>\n",
              "      <td>54</td>\n",
              "      <td>62</td>\n",
              "      <td>68</td>\n",
              "      <td>71</td>\n",
              "      <td>73</td>\n",
              "      <td>73</td>\n",
              "      <td>73</td>\n",
              "      <td>78</td>\n",
              "      <td>83</td>\n",
              "      <td>87</td>\n",
              "      <td>94</td>\n",
              "      <td>106</td>\n",
              "    </tr>\n",
              "    <tr>\n",
              "      <th>...</th>\n",
              "      <td>...</td>\n",
              "      <td>...</td>\n",
              "      <td>...</td>\n",
              "      <td>...</td>\n",
              "      <td>...</td>\n",
              "      <td>...</td>\n",
              "      <td>...</td>\n",
              "      <td>...</td>\n",
              "      <td>...</td>\n",
              "      <td>...</td>\n",
              "      <td>...</td>\n",
              "      <td>...</td>\n",
              "      <td>...</td>\n",
              "      <td>...</td>\n",
              "      <td>...</td>\n",
              "      <td>...</td>\n",
              "      <td>...</td>\n",
              "    </tr>\n",
              "    <tr>\n",
              "      <th>222</th>\n",
              "      <td>41</td>\n",
              "      <td>51</td>\n",
              "      <td>74</td>\n",
              "      <td>78</td>\n",
              "      <td>81</td>\n",
              "      <td>84</td>\n",
              "      <td>84</td>\n",
              "      <td>85</td>\n",
              "      <td>85</td>\n",
              "      <td>86</td>\n",
              "      <td>91</td>\n",
              "      <td>90</td>\n",
              "      <td>96</td>\n",
              "      <td>108</td>\n",
              "      <td>112</td>\n",
              "      <td>116</td>\n",
              "      <td>113</td>\n",
              "    </tr>\n",
              "    <tr>\n",
              "      <th>223</th>\n",
              "      <td>29</td>\n",
              "      <td>39</td>\n",
              "      <td>73</td>\n",
              "      <td>75</td>\n",
              "      <td>77</td>\n",
              "      <td>83</td>\n",
              "      <td>83</td>\n",
              "      <td>83</td>\n",
              "      <td>88</td>\n",
              "      <td>93</td>\n",
              "      <td>97</td>\n",
              "      <td>105</td>\n",
              "      <td>109</td>\n",
              "      <td>110</td>\n",
              "      <td>112</td>\n",
              "      <td>123</td>\n",
              "      <td>132</td>\n",
              "    </tr>\n",
              "    <tr>\n",
              "      <th>224</th>\n",
              "      <td>30</td>\n",
              "      <td>38</td>\n",
              "      <td>78</td>\n",
              "      <td>80</td>\n",
              "      <td>86</td>\n",
              "      <td>87</td>\n",
              "      <td>87</td>\n",
              "      <td>90</td>\n",
              "      <td>95</td>\n",
              "      <td>98</td>\n",
              "      <td>102</td>\n",
              "      <td>106</td>\n",
              "      <td>106</td>\n",
              "      <td>106</td>\n",
              "      <td>112</td>\n",
              "      <td>127</td>\n",
              "      <td>137</td>\n",
              "    </tr>\n",
              "    <tr>\n",
              "      <th>225</th>\n",
              "      <td>41</td>\n",
              "      <td>48</td>\n",
              "      <td>89</td>\n",
              "      <td>98</td>\n",
              "      <td>98</td>\n",
              "      <td>98</td>\n",
              "      <td>100</td>\n",
              "      <td>110</td>\n",
              "      <td>113</td>\n",
              "      <td>117</td>\n",
              "      <td>112</td>\n",
              "      <td>112</td>\n",
              "      <td>113</td>\n",
              "      <td>114</td>\n",
              "      <td>119</td>\n",
              "      <td>129</td>\n",
              "      <td>127</td>\n",
              "    </tr>\n",
              "    <tr>\n",
              "      <th>226</th>\n",
              "      <td>29</td>\n",
              "      <td>34</td>\n",
              "      <td>67</td>\n",
              "      <td>67</td>\n",
              "      <td>67</td>\n",
              "      <td>67</td>\n",
              "      <td>75</td>\n",
              "      <td>91</td>\n",
              "      <td>95</td>\n",
              "      <td>104</td>\n",
              "      <td>104</td>\n",
              "      <td>104</td>\n",
              "      <td>108</td>\n",
              "      <td>115</td>\n",
              "      <td>119</td>\n",
              "      <td>126</td>\n",
              "      <td>126</td>\n",
              "    </tr>\n",
              "  </tbody>\n",
              "</table>\n",
              "<p>223 rows × 17 columns</p>\n",
              "</div>"
            ],
            "text/plain": [
              "     T - 28  T - 21  T - 14  T - 13  T - 12  ...  T - 4  T - 3  T - 2  T - 1  Actual\n",
              "0        38      45      60      63      65  ...     94     98    100    104     106\n",
              "1        35      47      65      68      78  ...     99     99     99    114     121\n",
              "2        26      43      54      62      72  ...    102    102    106    114     126\n",
              "3        28      48      65      70      72  ...     94     97     98    103     114\n",
              "4        31      40      50      50      50  ...     78     83     87     94     106\n",
              "..      ...     ...     ...     ...     ...  ...    ...    ...    ...    ...     ...\n",
              "222      41      51      74      78      81  ...     96    108    112    116     113\n",
              "223      29      39      73      75      77  ...    109    110    112    123     132\n",
              "224      30      38      78      80      86  ...    106    106    112    127     137\n",
              "225      41      48      89      98      98  ...    113    114    119    129     127\n",
              "226      29      34      67      67      67  ...    108    115    119    126     126\n",
              "\n",
              "[223 rows x 17 columns]"
            ]
          },
          "metadata": {
            "tags": []
          },
          "execution_count": 89
        }
      ]
    },
    {
      "cell_type": "code",
      "metadata": {
        "id": "eRBEinHIpXJF"
      },
      "source": [
        "df_test = df_v1.loc[227:]\n",
        "df_test.drop(['SurgDate','DOW'], axis=1, inplace=True)"
      ],
      "execution_count": null,
      "outputs": []
    },
    {
      "cell_type": "code",
      "metadata": {
        "colab": {
          "base_uri": "https://localhost:8080/",
          "height": 483
        },
        "id": "mGV4PTm1p334",
        "outputId": "ba740e42-e1c6-4b41-a60d-7a35a0497d08"
      },
      "source": [
        "df_test"
      ],
      "execution_count": null,
      "outputs": [
        {
          "output_type": "execute_result",
          "data": {
            "text/html": [
              "<div>\n",
              "<style scoped>\n",
              "    .dataframe tbody tr th:only-of-type {\n",
              "        vertical-align: middle;\n",
              "    }\n",
              "\n",
              "    .dataframe tbody tr th {\n",
              "        vertical-align: top;\n",
              "    }\n",
              "\n",
              "    .dataframe thead th {\n",
              "        text-align: right;\n",
              "    }\n",
              "</style>\n",
              "<table border=\"1\" class=\"dataframe\">\n",
              "  <thead>\n",
              "    <tr style=\"text-align: right;\">\n",
              "      <th></th>\n",
              "      <th>T - 28</th>\n",
              "      <th>T - 21</th>\n",
              "      <th>T - 14</th>\n",
              "      <th>T - 13</th>\n",
              "      <th>T - 12</th>\n",
              "      <th>T - 11</th>\n",
              "      <th>T - 10</th>\n",
              "      <th>T - 9</th>\n",
              "      <th>T - 8</th>\n",
              "      <th>T - 7</th>\n",
              "      <th>T - 6</th>\n",
              "      <th>T - 5</th>\n",
              "      <th>T - 4</th>\n",
              "      <th>T - 3</th>\n",
              "      <th>T - 2</th>\n",
              "      <th>T - 1</th>\n",
              "      <th>Actual</th>\n",
              "    </tr>\n",
              "  </thead>\n",
              "  <tbody>\n",
              "    <tr>\n",
              "      <th>227</th>\n",
              "      <td>40</td>\n",
              "      <td>44</td>\n",
              "      <td>66</td>\n",
              "      <td>69</td>\n",
              "      <td>79</td>\n",
              "      <td>82</td>\n",
              "      <td>85</td>\n",
              "      <td>85</td>\n",
              "      <td>86</td>\n",
              "      <td>92</td>\n",
              "      <td>98</td>\n",
              "      <td>107</td>\n",
              "      <td>109</td>\n",
              "      <td>111</td>\n",
              "      <td>116</td>\n",
              "      <td>123</td>\n",
              "      <td>127</td>\n",
              "    </tr>\n",
              "    <tr>\n",
              "      <th>228</th>\n",
              "      <td>34</td>\n",
              "      <td>56</td>\n",
              "      <td>69</td>\n",
              "      <td>84</td>\n",
              "      <td>91</td>\n",
              "      <td>94</td>\n",
              "      <td>94</td>\n",
              "      <td>94</td>\n",
              "      <td>99</td>\n",
              "      <td>103</td>\n",
              "      <td>110</td>\n",
              "      <td>119</td>\n",
              "      <td>124</td>\n",
              "      <td>125</td>\n",
              "      <td>128</td>\n",
              "      <td>139</td>\n",
              "      <td>139</td>\n",
              "    </tr>\n",
              "    <tr>\n",
              "      <th>229</th>\n",
              "      <td>36</td>\n",
              "      <td>57</td>\n",
              "      <td>76</td>\n",
              "      <td>81</td>\n",
              "      <td>87</td>\n",
              "      <td>87</td>\n",
              "      <td>87</td>\n",
              "      <td>92</td>\n",
              "      <td>99</td>\n",
              "      <td>101</td>\n",
              "      <td>102</td>\n",
              "      <td>104</td>\n",
              "      <td>103</td>\n",
              "      <td>103</td>\n",
              "      <td>107</td>\n",
              "      <td>114</td>\n",
              "      <td>125</td>\n",
              "    </tr>\n",
              "    <tr>\n",
              "      <th>230</th>\n",
              "      <td>29</td>\n",
              "      <td>59</td>\n",
              "      <td>86</td>\n",
              "      <td>88</td>\n",
              "      <td>88</td>\n",
              "      <td>88</td>\n",
              "      <td>97</td>\n",
              "      <td>102</td>\n",
              "      <td>105</td>\n",
              "      <td>106</td>\n",
              "      <td>112</td>\n",
              "      <td>113</td>\n",
              "      <td>113</td>\n",
              "      <td>113</td>\n",
              "      <td>115</td>\n",
              "      <td>124</td>\n",
              "      <td>126</td>\n",
              "    </tr>\n",
              "    <tr>\n",
              "      <th>231</th>\n",
              "      <td>19</td>\n",
              "      <td>38</td>\n",
              "      <td>58</td>\n",
              "      <td>58</td>\n",
              "      <td>58</td>\n",
              "      <td>62</td>\n",
              "      <td>68</td>\n",
              "      <td>71</td>\n",
              "      <td>80</td>\n",
              "      <td>86</td>\n",
              "      <td>86</td>\n",
              "      <td>86</td>\n",
              "      <td>94</td>\n",
              "      <td>93</td>\n",
              "      <td>99</td>\n",
              "      <td>116</td>\n",
              "      <td>124</td>\n",
              "    </tr>\n",
              "    <tr>\n",
              "      <th>232</th>\n",
              "      <td>23</td>\n",
              "      <td>36</td>\n",
              "      <td>51</td>\n",
              "      <td>57</td>\n",
              "      <td>66</td>\n",
              "      <td>72</td>\n",
              "      <td>73</td>\n",
              "      <td>73</td>\n",
              "      <td>74</td>\n",
              "      <td>80</td>\n",
              "      <td>84</td>\n",
              "      <td>92</td>\n",
              "      <td>105</td>\n",
              "      <td>106</td>\n",
              "      <td>106</td>\n",
              "      <td>116</td>\n",
              "      <td>114</td>\n",
              "    </tr>\n",
              "    <tr>\n",
              "      <th>233</th>\n",
              "      <td>27</td>\n",
              "      <td>37</td>\n",
              "      <td>47</td>\n",
              "      <td>54</td>\n",
              "      <td>60</td>\n",
              "      <td>60</td>\n",
              "      <td>60</td>\n",
              "      <td>61</td>\n",
              "      <td>70</td>\n",
              "      <td>70</td>\n",
              "      <td>74</td>\n",
              "      <td>81</td>\n",
              "      <td>81</td>\n",
              "      <td>82</td>\n",
              "      <td>85</td>\n",
              "      <td>95</td>\n",
              "      <td>103</td>\n",
              "    </tr>\n",
              "    <tr>\n",
              "      <th>234</th>\n",
              "      <td>23</td>\n",
              "      <td>42</td>\n",
              "      <td>70</td>\n",
              "      <td>80</td>\n",
              "      <td>81</td>\n",
              "      <td>81</td>\n",
              "      <td>87</td>\n",
              "      <td>86</td>\n",
              "      <td>93</td>\n",
              "      <td>99</td>\n",
              "      <td>105</td>\n",
              "      <td>105</td>\n",
              "      <td>105</td>\n",
              "      <td>106</td>\n",
              "      <td>108</td>\n",
              "      <td>119</td>\n",
              "      <td>126</td>\n",
              "    </tr>\n",
              "    <tr>\n",
              "      <th>235</th>\n",
              "      <td>10</td>\n",
              "      <td>21</td>\n",
              "      <td>48</td>\n",
              "      <td>48</td>\n",
              "      <td>48</td>\n",
              "      <td>50</td>\n",
              "      <td>56</td>\n",
              "      <td>60</td>\n",
              "      <td>65</td>\n",
              "      <td>68</td>\n",
              "      <td>68</td>\n",
              "      <td>68</td>\n",
              "      <td>68</td>\n",
              "      <td>67</td>\n",
              "      <td>82</td>\n",
              "      <td>91</td>\n",
              "      <td>103</td>\n",
              "    </tr>\n",
              "    <tr>\n",
              "      <th>236</th>\n",
              "      <td>33</td>\n",
              "      <td>49</td>\n",
              "      <td>68</td>\n",
              "      <td>71</td>\n",
              "      <td>82</td>\n",
              "      <td>84</td>\n",
              "      <td>86</td>\n",
              "      <td>86</td>\n",
              "      <td>86</td>\n",
              "      <td>86</td>\n",
              "      <td>91</td>\n",
              "      <td>97</td>\n",
              "      <td>101</td>\n",
              "      <td>103</td>\n",
              "      <td>109</td>\n",
              "      <td>110</td>\n",
              "      <td>118</td>\n",
              "    </tr>\n",
              "    <tr>\n",
              "      <th>237</th>\n",
              "      <td>31</td>\n",
              "      <td>56</td>\n",
              "      <td>68</td>\n",
              "      <td>70</td>\n",
              "      <td>74</td>\n",
              "      <td>78</td>\n",
              "      <td>78</td>\n",
              "      <td>78</td>\n",
              "      <td>78</td>\n",
              "      <td>80</td>\n",
              "      <td>88</td>\n",
              "      <td>94</td>\n",
              "      <td>97</td>\n",
              "      <td>98</td>\n",
              "      <td>98</td>\n",
              "      <td>99</td>\n",
              "      <td>108</td>\n",
              "    </tr>\n",
              "    <tr>\n",
              "      <th>238</th>\n",
              "      <td>39</td>\n",
              "      <td>49</td>\n",
              "      <td>69</td>\n",
              "      <td>78</td>\n",
              "      <td>81</td>\n",
              "      <td>82</td>\n",
              "      <td>82</td>\n",
              "      <td>82</td>\n",
              "      <td>85</td>\n",
              "      <td>88</td>\n",
              "      <td>96</td>\n",
              "      <td>99</td>\n",
              "      <td>99</td>\n",
              "      <td>100</td>\n",
              "      <td>104</td>\n",
              "      <td>115</td>\n",
              "      <td>121</td>\n",
              "    </tr>\n",
              "    <tr>\n",
              "      <th>239</th>\n",
              "      <td>34</td>\n",
              "      <td>51</td>\n",
              "      <td>68</td>\n",
              "      <td>77</td>\n",
              "      <td>75</td>\n",
              "      <td>75</td>\n",
              "      <td>75</td>\n",
              "      <td>79</td>\n",
              "      <td>89</td>\n",
              "      <td>92</td>\n",
              "      <td>98</td>\n",
              "      <td>99</td>\n",
              "      <td>99</td>\n",
              "      <td>97</td>\n",
              "      <td>101</td>\n",
              "      <td>106</td>\n",
              "      <td>114</td>\n",
              "    </tr>\n",
              "    <tr>\n",
              "      <th>240</th>\n",
              "      <td>27</td>\n",
              "      <td>41</td>\n",
              "      <td>63</td>\n",
              "      <td>63</td>\n",
              "      <td>63</td>\n",
              "      <td>63</td>\n",
              "      <td>66</td>\n",
              "      <td>72</td>\n",
              "      <td>73</td>\n",
              "      <td>76</td>\n",
              "      <td>76</td>\n",
              "      <td>77</td>\n",
              "      <td>78</td>\n",
              "      <td>81</td>\n",
              "      <td>86</td>\n",
              "      <td>101</td>\n",
              "      <td>102</td>\n",
              "    </tr>\n",
              "  </tbody>\n",
              "</table>\n",
              "</div>"
            ],
            "text/plain": [
              "     T - 28  T - 21  T - 14  T - 13  T - 12  ...  T - 4  T - 3  T - 2  T - 1  Actual\n",
              "227      40      44      66      69      79  ...    109    111    116    123     127\n",
              "228      34      56      69      84      91  ...    124    125    128    139     139\n",
              "229      36      57      76      81      87  ...    103    103    107    114     125\n",
              "230      29      59      86      88      88  ...    113    113    115    124     126\n",
              "231      19      38      58      58      58  ...     94     93     99    116     124\n",
              "232      23      36      51      57      66  ...    105    106    106    116     114\n",
              "233      27      37      47      54      60  ...     81     82     85     95     103\n",
              "234      23      42      70      80      81  ...    105    106    108    119     126\n",
              "235      10      21      48      48      48  ...     68     67     82     91     103\n",
              "236      33      49      68      71      82  ...    101    103    109    110     118\n",
              "237      31      56      68      70      74  ...     97     98     98     99     108\n",
              "238      39      49      69      78      81  ...     99    100    104    115     121\n",
              "239      34      51      68      77      75  ...     99     97    101    106     114\n",
              "240      27      41      63      63      63  ...     78     81     86    101     102\n",
              "\n",
              "[14 rows x 17 columns]"
            ]
          },
          "metadata": {
            "tags": []
          },
          "execution_count": 87
        }
      ]
    },
    {
      "cell_type": "code",
      "metadata": {
        "id": "hvAcxAoVqoG4"
      },
      "source": [
        "X_train = df_train.drop('Actual', axis=1)\n",
        "y_train = df_train['Actual']\n",
        "\n",
        "X_test = df_test.drop('Actual', axis=1)\n",
        "y_test = df_test['Actual']"
      ],
      "execution_count": null,
      "outputs": []
    },
    {
      "cell_type": "code",
      "metadata": {
        "colab": {
          "base_uri": "https://localhost:8080/",
          "height": 419
        },
        "id": "9dGJmTj4rnZu",
        "outputId": "54e13f88-6b38-4e06-8e54-3ba50638f7e2"
      },
      "source": [
        "X_train"
      ],
      "execution_count": null,
      "outputs": [
        {
          "output_type": "execute_result",
          "data": {
            "text/html": [
              "<div>\n",
              "<style scoped>\n",
              "    .dataframe tbody tr th:only-of-type {\n",
              "        vertical-align: middle;\n",
              "    }\n",
              "\n",
              "    .dataframe tbody tr th {\n",
              "        vertical-align: top;\n",
              "    }\n",
              "\n",
              "    .dataframe thead th {\n",
              "        text-align: right;\n",
              "    }\n",
              "</style>\n",
              "<table border=\"1\" class=\"dataframe\">\n",
              "  <thead>\n",
              "    <tr style=\"text-align: right;\">\n",
              "      <th></th>\n",
              "      <th>T - 28</th>\n",
              "      <th>T - 21</th>\n",
              "      <th>T - 14</th>\n",
              "      <th>T - 13</th>\n",
              "      <th>T - 12</th>\n",
              "      <th>T - 11</th>\n",
              "      <th>T - 10</th>\n",
              "      <th>T - 9</th>\n",
              "      <th>T - 8</th>\n",
              "      <th>T - 7</th>\n",
              "      <th>T - 6</th>\n",
              "      <th>T - 5</th>\n",
              "      <th>T - 4</th>\n",
              "      <th>T - 3</th>\n",
              "      <th>T - 2</th>\n",
              "      <th>T - 1</th>\n",
              "    </tr>\n",
              "  </thead>\n",
              "  <tbody>\n",
              "    <tr>\n",
              "      <th>0</th>\n",
              "      <td>38</td>\n",
              "      <td>45</td>\n",
              "      <td>60</td>\n",
              "      <td>63</td>\n",
              "      <td>65</td>\n",
              "      <td>70</td>\n",
              "      <td>73</td>\n",
              "      <td>73</td>\n",
              "      <td>73</td>\n",
              "      <td>80</td>\n",
              "      <td>84</td>\n",
              "      <td>89</td>\n",
              "      <td>94</td>\n",
              "      <td>98</td>\n",
              "      <td>100</td>\n",
              "      <td>104</td>\n",
              "    </tr>\n",
              "    <tr>\n",
              "      <th>1</th>\n",
              "      <td>35</td>\n",
              "      <td>47</td>\n",
              "      <td>65</td>\n",
              "      <td>68</td>\n",
              "      <td>78</td>\n",
              "      <td>82</td>\n",
              "      <td>82</td>\n",
              "      <td>82</td>\n",
              "      <td>86</td>\n",
              "      <td>89</td>\n",
              "      <td>92</td>\n",
              "      <td>95</td>\n",
              "      <td>99</td>\n",
              "      <td>99</td>\n",
              "      <td>99</td>\n",
              "      <td>114</td>\n",
              "    </tr>\n",
              "    <tr>\n",
              "      <th>2</th>\n",
              "      <td>26</td>\n",
              "      <td>43</td>\n",
              "      <td>54</td>\n",
              "      <td>62</td>\n",
              "      <td>72</td>\n",
              "      <td>72</td>\n",
              "      <td>72</td>\n",
              "      <td>74</td>\n",
              "      <td>87</td>\n",
              "      <td>94</td>\n",
              "      <td>96</td>\n",
              "      <td>101</td>\n",
              "      <td>102</td>\n",
              "      <td>102</td>\n",
              "      <td>106</td>\n",
              "      <td>114</td>\n",
              "    </tr>\n",
              "    <tr>\n",
              "      <th>3</th>\n",
              "      <td>28</td>\n",
              "      <td>48</td>\n",
              "      <td>65</td>\n",
              "      <td>70</td>\n",
              "      <td>72</td>\n",
              "      <td>72</td>\n",
              "      <td>72</td>\n",
              "      <td>82</td>\n",
              "      <td>87</td>\n",
              "      <td>91</td>\n",
              "      <td>94</td>\n",
              "      <td>94</td>\n",
              "      <td>94</td>\n",
              "      <td>97</td>\n",
              "      <td>98</td>\n",
              "      <td>103</td>\n",
              "    </tr>\n",
              "    <tr>\n",
              "      <th>4</th>\n",
              "      <td>31</td>\n",
              "      <td>40</td>\n",
              "      <td>50</td>\n",
              "      <td>50</td>\n",
              "      <td>50</td>\n",
              "      <td>54</td>\n",
              "      <td>62</td>\n",
              "      <td>68</td>\n",
              "      <td>71</td>\n",
              "      <td>73</td>\n",
              "      <td>73</td>\n",
              "      <td>73</td>\n",
              "      <td>78</td>\n",
              "      <td>83</td>\n",
              "      <td>87</td>\n",
              "      <td>94</td>\n",
              "    </tr>\n",
              "    <tr>\n",
              "      <th>...</th>\n",
              "      <td>...</td>\n",
              "      <td>...</td>\n",
              "      <td>...</td>\n",
              "      <td>...</td>\n",
              "      <td>...</td>\n",
              "      <td>...</td>\n",
              "      <td>...</td>\n",
              "      <td>...</td>\n",
              "      <td>...</td>\n",
              "      <td>...</td>\n",
              "      <td>...</td>\n",
              "      <td>...</td>\n",
              "      <td>...</td>\n",
              "      <td>...</td>\n",
              "      <td>...</td>\n",
              "      <td>...</td>\n",
              "    </tr>\n",
              "    <tr>\n",
              "      <th>222</th>\n",
              "      <td>41</td>\n",
              "      <td>51</td>\n",
              "      <td>74</td>\n",
              "      <td>78</td>\n",
              "      <td>81</td>\n",
              "      <td>84</td>\n",
              "      <td>84</td>\n",
              "      <td>85</td>\n",
              "      <td>85</td>\n",
              "      <td>86</td>\n",
              "      <td>91</td>\n",
              "      <td>90</td>\n",
              "      <td>96</td>\n",
              "      <td>108</td>\n",
              "      <td>112</td>\n",
              "      <td>116</td>\n",
              "    </tr>\n",
              "    <tr>\n",
              "      <th>223</th>\n",
              "      <td>29</td>\n",
              "      <td>39</td>\n",
              "      <td>73</td>\n",
              "      <td>75</td>\n",
              "      <td>77</td>\n",
              "      <td>83</td>\n",
              "      <td>83</td>\n",
              "      <td>83</td>\n",
              "      <td>88</td>\n",
              "      <td>93</td>\n",
              "      <td>97</td>\n",
              "      <td>105</td>\n",
              "      <td>109</td>\n",
              "      <td>110</td>\n",
              "      <td>112</td>\n",
              "      <td>123</td>\n",
              "    </tr>\n",
              "    <tr>\n",
              "      <th>224</th>\n",
              "      <td>30</td>\n",
              "      <td>38</td>\n",
              "      <td>78</td>\n",
              "      <td>80</td>\n",
              "      <td>86</td>\n",
              "      <td>87</td>\n",
              "      <td>87</td>\n",
              "      <td>90</td>\n",
              "      <td>95</td>\n",
              "      <td>98</td>\n",
              "      <td>102</td>\n",
              "      <td>106</td>\n",
              "      <td>106</td>\n",
              "      <td>106</td>\n",
              "      <td>112</td>\n",
              "      <td>127</td>\n",
              "    </tr>\n",
              "    <tr>\n",
              "      <th>225</th>\n",
              "      <td>41</td>\n",
              "      <td>48</td>\n",
              "      <td>89</td>\n",
              "      <td>98</td>\n",
              "      <td>98</td>\n",
              "      <td>98</td>\n",
              "      <td>100</td>\n",
              "      <td>110</td>\n",
              "      <td>113</td>\n",
              "      <td>117</td>\n",
              "      <td>112</td>\n",
              "      <td>112</td>\n",
              "      <td>113</td>\n",
              "      <td>114</td>\n",
              "      <td>119</td>\n",
              "      <td>129</td>\n",
              "    </tr>\n",
              "    <tr>\n",
              "      <th>226</th>\n",
              "      <td>29</td>\n",
              "      <td>34</td>\n",
              "      <td>67</td>\n",
              "      <td>67</td>\n",
              "      <td>67</td>\n",
              "      <td>67</td>\n",
              "      <td>75</td>\n",
              "      <td>91</td>\n",
              "      <td>95</td>\n",
              "      <td>104</td>\n",
              "      <td>104</td>\n",
              "      <td>104</td>\n",
              "      <td>108</td>\n",
              "      <td>115</td>\n",
              "      <td>119</td>\n",
              "      <td>126</td>\n",
              "    </tr>\n",
              "  </tbody>\n",
              "</table>\n",
              "<p>223 rows × 16 columns</p>\n",
              "</div>"
            ],
            "text/plain": [
              "     T - 28  T - 21  T - 14  T - 13  T - 12  ...  T - 5  T - 4  T - 3  T - 2  T - 1\n",
              "0        38      45      60      63      65  ...     89     94     98    100    104\n",
              "1        35      47      65      68      78  ...     95     99     99     99    114\n",
              "2        26      43      54      62      72  ...    101    102    102    106    114\n",
              "3        28      48      65      70      72  ...     94     94     97     98    103\n",
              "4        31      40      50      50      50  ...     73     78     83     87     94\n",
              "..      ...     ...     ...     ...     ...  ...    ...    ...    ...    ...    ...\n",
              "222      41      51      74      78      81  ...     90     96    108    112    116\n",
              "223      29      39      73      75      77  ...    105    109    110    112    123\n",
              "224      30      38      78      80      86  ...    106    106    106    112    127\n",
              "225      41      48      89      98      98  ...    112    113    114    119    129\n",
              "226      29      34      67      67      67  ...    104    108    115    119    126\n",
              "\n",
              "[223 rows x 16 columns]"
            ]
          },
          "metadata": {
            "tags": []
          },
          "execution_count": 41
        }
      ]
    },
    {
      "cell_type": "code",
      "metadata": {
        "colab": {
          "base_uri": "https://localhost:8080/",
          "height": 483
        },
        "id": "YXl3u9b9syEa",
        "outputId": "2cdc461e-8aa1-49b3-b135-6e23bcdde784"
      },
      "source": [
        "X_test"
      ],
      "execution_count": null,
      "outputs": [
        {
          "output_type": "execute_result",
          "data": {
            "text/html": [
              "<div>\n",
              "<style scoped>\n",
              "    .dataframe tbody tr th:only-of-type {\n",
              "        vertical-align: middle;\n",
              "    }\n",
              "\n",
              "    .dataframe tbody tr th {\n",
              "        vertical-align: top;\n",
              "    }\n",
              "\n",
              "    .dataframe thead th {\n",
              "        text-align: right;\n",
              "    }\n",
              "</style>\n",
              "<table border=\"1\" class=\"dataframe\">\n",
              "  <thead>\n",
              "    <tr style=\"text-align: right;\">\n",
              "      <th></th>\n",
              "      <th>T - 28</th>\n",
              "      <th>T - 21</th>\n",
              "      <th>T - 14</th>\n",
              "      <th>T - 13</th>\n",
              "      <th>T - 12</th>\n",
              "      <th>T - 11</th>\n",
              "      <th>T - 10</th>\n",
              "      <th>T - 9</th>\n",
              "      <th>T - 8</th>\n",
              "      <th>T - 7</th>\n",
              "      <th>T - 6</th>\n",
              "      <th>T - 5</th>\n",
              "      <th>T - 4</th>\n",
              "      <th>T - 3</th>\n",
              "      <th>T - 2</th>\n",
              "      <th>T - 1</th>\n",
              "    </tr>\n",
              "  </thead>\n",
              "  <tbody>\n",
              "    <tr>\n",
              "      <th>227</th>\n",
              "      <td>40</td>\n",
              "      <td>44</td>\n",
              "      <td>66</td>\n",
              "      <td>69</td>\n",
              "      <td>79</td>\n",
              "      <td>82</td>\n",
              "      <td>85</td>\n",
              "      <td>85</td>\n",
              "      <td>86</td>\n",
              "      <td>92</td>\n",
              "      <td>98</td>\n",
              "      <td>107</td>\n",
              "      <td>109</td>\n",
              "      <td>111</td>\n",
              "      <td>116</td>\n",
              "      <td>123</td>\n",
              "    </tr>\n",
              "    <tr>\n",
              "      <th>228</th>\n",
              "      <td>34</td>\n",
              "      <td>56</td>\n",
              "      <td>69</td>\n",
              "      <td>84</td>\n",
              "      <td>91</td>\n",
              "      <td>94</td>\n",
              "      <td>94</td>\n",
              "      <td>94</td>\n",
              "      <td>99</td>\n",
              "      <td>103</td>\n",
              "      <td>110</td>\n",
              "      <td>119</td>\n",
              "      <td>124</td>\n",
              "      <td>125</td>\n",
              "      <td>128</td>\n",
              "      <td>139</td>\n",
              "    </tr>\n",
              "    <tr>\n",
              "      <th>229</th>\n",
              "      <td>36</td>\n",
              "      <td>57</td>\n",
              "      <td>76</td>\n",
              "      <td>81</td>\n",
              "      <td>87</td>\n",
              "      <td>87</td>\n",
              "      <td>87</td>\n",
              "      <td>92</td>\n",
              "      <td>99</td>\n",
              "      <td>101</td>\n",
              "      <td>102</td>\n",
              "      <td>104</td>\n",
              "      <td>103</td>\n",
              "      <td>103</td>\n",
              "      <td>107</td>\n",
              "      <td>114</td>\n",
              "    </tr>\n",
              "    <tr>\n",
              "      <th>230</th>\n",
              "      <td>29</td>\n",
              "      <td>59</td>\n",
              "      <td>86</td>\n",
              "      <td>88</td>\n",
              "      <td>88</td>\n",
              "      <td>88</td>\n",
              "      <td>97</td>\n",
              "      <td>102</td>\n",
              "      <td>105</td>\n",
              "      <td>106</td>\n",
              "      <td>112</td>\n",
              "      <td>113</td>\n",
              "      <td>113</td>\n",
              "      <td>113</td>\n",
              "      <td>115</td>\n",
              "      <td>124</td>\n",
              "    </tr>\n",
              "    <tr>\n",
              "      <th>231</th>\n",
              "      <td>19</td>\n",
              "      <td>38</td>\n",
              "      <td>58</td>\n",
              "      <td>58</td>\n",
              "      <td>58</td>\n",
              "      <td>62</td>\n",
              "      <td>68</td>\n",
              "      <td>71</td>\n",
              "      <td>80</td>\n",
              "      <td>86</td>\n",
              "      <td>86</td>\n",
              "      <td>86</td>\n",
              "      <td>94</td>\n",
              "      <td>93</td>\n",
              "      <td>99</td>\n",
              "      <td>116</td>\n",
              "    </tr>\n",
              "    <tr>\n",
              "      <th>232</th>\n",
              "      <td>23</td>\n",
              "      <td>36</td>\n",
              "      <td>51</td>\n",
              "      <td>57</td>\n",
              "      <td>66</td>\n",
              "      <td>72</td>\n",
              "      <td>73</td>\n",
              "      <td>73</td>\n",
              "      <td>74</td>\n",
              "      <td>80</td>\n",
              "      <td>84</td>\n",
              "      <td>92</td>\n",
              "      <td>105</td>\n",
              "      <td>106</td>\n",
              "      <td>106</td>\n",
              "      <td>116</td>\n",
              "    </tr>\n",
              "    <tr>\n",
              "      <th>233</th>\n",
              "      <td>27</td>\n",
              "      <td>37</td>\n",
              "      <td>47</td>\n",
              "      <td>54</td>\n",
              "      <td>60</td>\n",
              "      <td>60</td>\n",
              "      <td>60</td>\n",
              "      <td>61</td>\n",
              "      <td>70</td>\n",
              "      <td>70</td>\n",
              "      <td>74</td>\n",
              "      <td>81</td>\n",
              "      <td>81</td>\n",
              "      <td>82</td>\n",
              "      <td>85</td>\n",
              "      <td>95</td>\n",
              "    </tr>\n",
              "    <tr>\n",
              "      <th>234</th>\n",
              "      <td>23</td>\n",
              "      <td>42</td>\n",
              "      <td>70</td>\n",
              "      <td>80</td>\n",
              "      <td>81</td>\n",
              "      <td>81</td>\n",
              "      <td>87</td>\n",
              "      <td>86</td>\n",
              "      <td>93</td>\n",
              "      <td>99</td>\n",
              "      <td>105</td>\n",
              "      <td>105</td>\n",
              "      <td>105</td>\n",
              "      <td>106</td>\n",
              "      <td>108</td>\n",
              "      <td>119</td>\n",
              "    </tr>\n",
              "    <tr>\n",
              "      <th>235</th>\n",
              "      <td>10</td>\n",
              "      <td>21</td>\n",
              "      <td>48</td>\n",
              "      <td>48</td>\n",
              "      <td>48</td>\n",
              "      <td>50</td>\n",
              "      <td>56</td>\n",
              "      <td>60</td>\n",
              "      <td>65</td>\n",
              "      <td>68</td>\n",
              "      <td>68</td>\n",
              "      <td>68</td>\n",
              "      <td>68</td>\n",
              "      <td>67</td>\n",
              "      <td>82</td>\n",
              "      <td>91</td>\n",
              "    </tr>\n",
              "    <tr>\n",
              "      <th>236</th>\n",
              "      <td>33</td>\n",
              "      <td>49</td>\n",
              "      <td>68</td>\n",
              "      <td>71</td>\n",
              "      <td>82</td>\n",
              "      <td>84</td>\n",
              "      <td>86</td>\n",
              "      <td>86</td>\n",
              "      <td>86</td>\n",
              "      <td>86</td>\n",
              "      <td>91</td>\n",
              "      <td>97</td>\n",
              "      <td>101</td>\n",
              "      <td>103</td>\n",
              "      <td>109</td>\n",
              "      <td>110</td>\n",
              "    </tr>\n",
              "    <tr>\n",
              "      <th>237</th>\n",
              "      <td>31</td>\n",
              "      <td>56</td>\n",
              "      <td>68</td>\n",
              "      <td>70</td>\n",
              "      <td>74</td>\n",
              "      <td>78</td>\n",
              "      <td>78</td>\n",
              "      <td>78</td>\n",
              "      <td>78</td>\n",
              "      <td>80</td>\n",
              "      <td>88</td>\n",
              "      <td>94</td>\n",
              "      <td>97</td>\n",
              "      <td>98</td>\n",
              "      <td>98</td>\n",
              "      <td>99</td>\n",
              "    </tr>\n",
              "    <tr>\n",
              "      <th>238</th>\n",
              "      <td>39</td>\n",
              "      <td>49</td>\n",
              "      <td>69</td>\n",
              "      <td>78</td>\n",
              "      <td>81</td>\n",
              "      <td>82</td>\n",
              "      <td>82</td>\n",
              "      <td>82</td>\n",
              "      <td>85</td>\n",
              "      <td>88</td>\n",
              "      <td>96</td>\n",
              "      <td>99</td>\n",
              "      <td>99</td>\n",
              "      <td>100</td>\n",
              "      <td>104</td>\n",
              "      <td>115</td>\n",
              "    </tr>\n",
              "    <tr>\n",
              "      <th>239</th>\n",
              "      <td>34</td>\n",
              "      <td>51</td>\n",
              "      <td>68</td>\n",
              "      <td>77</td>\n",
              "      <td>75</td>\n",
              "      <td>75</td>\n",
              "      <td>75</td>\n",
              "      <td>79</td>\n",
              "      <td>89</td>\n",
              "      <td>92</td>\n",
              "      <td>98</td>\n",
              "      <td>99</td>\n",
              "      <td>99</td>\n",
              "      <td>97</td>\n",
              "      <td>101</td>\n",
              "      <td>106</td>\n",
              "    </tr>\n",
              "    <tr>\n",
              "      <th>240</th>\n",
              "      <td>27</td>\n",
              "      <td>41</td>\n",
              "      <td>63</td>\n",
              "      <td>63</td>\n",
              "      <td>63</td>\n",
              "      <td>63</td>\n",
              "      <td>66</td>\n",
              "      <td>72</td>\n",
              "      <td>73</td>\n",
              "      <td>76</td>\n",
              "      <td>76</td>\n",
              "      <td>77</td>\n",
              "      <td>78</td>\n",
              "      <td>81</td>\n",
              "      <td>86</td>\n",
              "      <td>101</td>\n",
              "    </tr>\n",
              "  </tbody>\n",
              "</table>\n",
              "</div>"
            ],
            "text/plain": [
              "     T - 28  T - 21  T - 14  T - 13  T - 12  ...  T - 5  T - 4  T - 3  T - 2  T - 1\n",
              "227      40      44      66      69      79  ...    107    109    111    116    123\n",
              "228      34      56      69      84      91  ...    119    124    125    128    139\n",
              "229      36      57      76      81      87  ...    104    103    103    107    114\n",
              "230      29      59      86      88      88  ...    113    113    113    115    124\n",
              "231      19      38      58      58      58  ...     86     94     93     99    116\n",
              "232      23      36      51      57      66  ...     92    105    106    106    116\n",
              "233      27      37      47      54      60  ...     81     81     82     85     95\n",
              "234      23      42      70      80      81  ...    105    105    106    108    119\n",
              "235      10      21      48      48      48  ...     68     68     67     82     91\n",
              "236      33      49      68      71      82  ...     97    101    103    109    110\n",
              "237      31      56      68      70      74  ...     94     97     98     98     99\n",
              "238      39      49      69      78      81  ...     99     99    100    104    115\n",
              "239      34      51      68      77      75  ...     99     99     97    101    106\n",
              "240      27      41      63      63      63  ...     77     78     81     86    101\n",
              "\n",
              "[14 rows x 16 columns]"
            ]
          },
          "metadata": {
            "tags": []
          },
          "execution_count": 42
        }
      ]
    },
    {
      "cell_type": "code",
      "metadata": {
        "colab": {
          "base_uri": "https://localhost:8080/"
        },
        "id": "AyY5PQE5sz6M",
        "outputId": "580b7315-3f4d-4d48-e726-e90d9a118b55"
      },
      "source": [
        "y_train"
      ],
      "execution_count": null,
      "outputs": [
        {
          "output_type": "execute_result",
          "data": {
            "text/plain": [
              "0      106\n",
              "1      121\n",
              "2      126\n",
              "3      114\n",
              "4      106\n",
              "      ... \n",
              "222    113\n",
              "223    132\n",
              "224    137\n",
              "225    127\n",
              "226    126\n",
              "Name: Actual, Length: 223, dtype: int64"
            ]
          },
          "metadata": {
            "tags": []
          },
          "execution_count": 43
        }
      ]
    },
    {
      "cell_type": "code",
      "metadata": {
        "colab": {
          "base_uri": "https://localhost:8080/"
        },
        "id": "RguOLMUQs26c",
        "outputId": "77deb413-0ee6-48c9-895d-38179f3048e5"
      },
      "source": [
        "y_test"
      ],
      "execution_count": null,
      "outputs": [
        {
          "output_type": "execute_result",
          "data": {
            "text/plain": [
              "227    127\n",
              "228    139\n",
              "229    125\n",
              "230    126\n",
              "231    124\n",
              "232    114\n",
              "233    103\n",
              "234    126\n",
              "235    103\n",
              "236    118\n",
              "237    108\n",
              "238    121\n",
              "239    114\n",
              "240    102\n",
              "Name: Actual, dtype: int64"
            ]
          },
          "metadata": {
            "tags": []
          },
          "execution_count": 44
        }
      ]
    },
    {
      "cell_type": "code",
      "metadata": {
        "id": "aTnew773s4pk"
      },
      "source": [
        "from sklearn.linear_model import LinearRegression"
      ],
      "execution_count": null,
      "outputs": []
    },
    {
      "cell_type": "code",
      "metadata": {
        "id": "b736ItNktIth"
      },
      "source": [
        "lm=LinearRegression()"
      ],
      "execution_count": null,
      "outputs": []
    },
    {
      "cell_type": "code",
      "metadata": {
        "colab": {
          "base_uri": "https://localhost:8080/"
        },
        "id": "yIoYKX56tL_-",
        "outputId": "602807bd-a195-411b-fa22-1a78c5604fba"
      },
      "source": [
        "lm.fit(X_train,y_train)"
      ],
      "execution_count": null,
      "outputs": [
        {
          "output_type": "execute_result",
          "data": {
            "text/plain": [
              "LinearRegression(copy_X=True, fit_intercept=True, n_jobs=None, normalize=False)"
            ]
          },
          "metadata": {
            "tags": []
          },
          "execution_count": 47
        }
      ]
    },
    {
      "cell_type": "code",
      "metadata": {
        "colab": {
          "base_uri": "https://localhost:8080/"
        },
        "id": "fIBP6dVItamg",
        "outputId": "6aa5ed17-c0a9-4178-ed8a-b2a30041e0a4"
      },
      "source": [
        "print(lm.intercept_)"
      ],
      "execution_count": null,
      "outputs": [
        {
          "output_type": "stream",
          "text": [
            "13.84021303436468\n"
          ],
          "name": "stdout"
        }
      ]
    },
    {
      "cell_type": "code",
      "metadata": {
        "colab": {
          "base_uri": "https://localhost:8080/"
        },
        "id": "NnnLuIB8uG7U",
        "outputId": "d80db0e0-c86e-4676-e09f-7df0795bc613"
      },
      "source": [
        "lm.coef_"
      ],
      "execution_count": null,
      "outputs": [
        {
          "output_type": "execute_result",
          "data": {
            "text/plain": [
              "array([-0.05468727,  0.09375972, -0.10703914,  0.10856215,  0.07139575,\n",
              "       -0.21455475,  0.02373923,  0.13667367, -0.01201465,  0.13152796,\n",
              "       -0.13635564, -0.05095665,  0.10903604, -0.14289619,  0.08125206,\n",
              "        0.90544553])"
            ]
          },
          "metadata": {
            "tags": []
          },
          "execution_count": 49
        }
      ]
    },
    {
      "cell_type": "code",
      "metadata": {
        "id": "jGtWRjPVuPyS"
      },
      "source": [
        "cdf = pd.DataFrame(lm.coef_,X_train.columns, columns=['Coeffecients'])"
      ],
      "execution_count": null,
      "outputs": []
    },
    {
      "cell_type": "code",
      "metadata": {
        "colab": {
          "base_uri": "https://localhost:8080/",
          "height": 545
        },
        "id": "gmKTyN7Yu5Ij",
        "outputId": "cec6457e-b92a-44f5-f9ce-9ec44d67b29f"
      },
      "source": [
        "cdf"
      ],
      "execution_count": null,
      "outputs": [
        {
          "output_type": "execute_result",
          "data": {
            "text/html": [
              "<div>\n",
              "<style scoped>\n",
              "    .dataframe tbody tr th:only-of-type {\n",
              "        vertical-align: middle;\n",
              "    }\n",
              "\n",
              "    .dataframe tbody tr th {\n",
              "        vertical-align: top;\n",
              "    }\n",
              "\n",
              "    .dataframe thead th {\n",
              "        text-align: right;\n",
              "    }\n",
              "</style>\n",
              "<table border=\"1\" class=\"dataframe\">\n",
              "  <thead>\n",
              "    <tr style=\"text-align: right;\">\n",
              "      <th></th>\n",
              "      <th>Coeffecients</th>\n",
              "    </tr>\n",
              "  </thead>\n",
              "  <tbody>\n",
              "    <tr>\n",
              "      <th>T - 28</th>\n",
              "      <td>-0.054687</td>\n",
              "    </tr>\n",
              "    <tr>\n",
              "      <th>T - 21</th>\n",
              "      <td>0.093760</td>\n",
              "    </tr>\n",
              "    <tr>\n",
              "      <th>T - 14</th>\n",
              "      <td>-0.107039</td>\n",
              "    </tr>\n",
              "    <tr>\n",
              "      <th>T - 13</th>\n",
              "      <td>0.108562</td>\n",
              "    </tr>\n",
              "    <tr>\n",
              "      <th>T - 12</th>\n",
              "      <td>0.071396</td>\n",
              "    </tr>\n",
              "    <tr>\n",
              "      <th>T - 11</th>\n",
              "      <td>-0.214555</td>\n",
              "    </tr>\n",
              "    <tr>\n",
              "      <th>T - 10</th>\n",
              "      <td>0.023739</td>\n",
              "    </tr>\n",
              "    <tr>\n",
              "      <th>T - 9</th>\n",
              "      <td>0.136674</td>\n",
              "    </tr>\n",
              "    <tr>\n",
              "      <th>T - 8</th>\n",
              "      <td>-0.012015</td>\n",
              "    </tr>\n",
              "    <tr>\n",
              "      <th>T - 7</th>\n",
              "      <td>0.131528</td>\n",
              "    </tr>\n",
              "    <tr>\n",
              "      <th>T - 6</th>\n",
              "      <td>-0.136356</td>\n",
              "    </tr>\n",
              "    <tr>\n",
              "      <th>T - 5</th>\n",
              "      <td>-0.050957</td>\n",
              "    </tr>\n",
              "    <tr>\n",
              "      <th>T - 4</th>\n",
              "      <td>0.109036</td>\n",
              "    </tr>\n",
              "    <tr>\n",
              "      <th>T - 3</th>\n",
              "      <td>-0.142896</td>\n",
              "    </tr>\n",
              "    <tr>\n",
              "      <th>T - 2</th>\n",
              "      <td>0.081252</td>\n",
              "    </tr>\n",
              "    <tr>\n",
              "      <th>T - 1</th>\n",
              "      <td>0.905446</td>\n",
              "    </tr>\n",
              "  </tbody>\n",
              "</table>\n",
              "</div>"
            ],
            "text/plain": [
              "        Coeffecients\n",
              "T - 28     -0.054687\n",
              "T - 21      0.093760\n",
              "T - 14     -0.107039\n",
              "T - 13      0.108562\n",
              "T - 12      0.071396\n",
              "T - 11     -0.214555\n",
              "T - 10      0.023739\n",
              "T - 9       0.136674\n",
              "T - 8      -0.012015\n",
              "T - 7       0.131528\n",
              "T - 6      -0.136356\n",
              "T - 5      -0.050957\n",
              "T - 4       0.109036\n",
              "T - 3      -0.142896\n",
              "T - 2       0.081252\n",
              "T - 1       0.905446"
            ]
          },
          "metadata": {
            "tags": []
          },
          "execution_count": 51
        }
      ]
    },
    {
      "cell_type": "code",
      "metadata": {
        "id": "xuRInTXWu96O"
      },
      "source": [
        "predictions = lm.predict(X_test)"
      ],
      "execution_count": null,
      "outputs": []
    },
    {
      "cell_type": "code",
      "metadata": {
        "colab": {
          "base_uri": "https://localhost:8080/",
          "height": 282
        },
        "id": "b3BLPxevv0hE",
        "outputId": "46ba689e-b59d-4907-e1c7-f187eaedf391"
      },
      "source": [
        "plt.scatter(y_test,predictions)"
      ],
      "execution_count": null,
      "outputs": [
        {
          "output_type": "execute_result",
          "data": {
            "text/plain": [
              "<matplotlib.collections.PathCollection at 0x7fe90ec8c2b0>"
            ]
          },
          "metadata": {
            "tags": []
          },
          "execution_count": 53
        },
        {
          "output_type": "display_data",
          "data": {
            "image/png": "[encoded data removed]",
            "text/plain": [
              "<Figure size 432x288 with 1 Axes>"
            ]
          },
          "metadata": {
            "tags": [],
            "needs_background": "light"
          }
        }
      ]
    },
    {
      "cell_type": "code",
      "metadata": {
        "colab": {
          "base_uri": "https://localhost:8080/",
          "height": 296
        },
        "id": "frK7wEV_v80q",
        "outputId": "7c0bd549-d4c9-49e6-e6e0-f2b6d442e1dd"
      },
      "source": [
        "sns.distplot((y_test-predictions))"
      ],
      "execution_count": null,
      "outputs": [
        {
          "output_type": "execute_result",
          "data": {
            "text/plain": [
              "<matplotlib.axes._subplots.AxesSubplot at 0x7fe9107dd1d0>"
            ]
          },
          "metadata": {
            "tags": []
          },
          "execution_count": 54
        },
        {
          "output_type": "display_data",
          "data": {
            "image/png": "[encoded data removed]",
            "text/plain": [
              "<Figure size 432x288 with 1 Axes>"
            ]
          },
          "metadata": {
            "tags": [],
            "needs_background": "light"
          }
        }
      ]
    },
    {
      "cell_type": "code",
      "metadata": {
        "id": "Xuno9jgawe0m"
      },
      "source": [
        "from sklearn import metrics"
      ],
      "execution_count": null,
      "outputs": []
    },
    {
      "cell_type": "code",
      "metadata": {
        "colab": {
          "base_uri": "https://localhost:8080/"
        },
        "id": "Zt2c2n_WxHU7",
        "outputId": "8795aacc-c9d8-4698-cb98-ffe4b5bcbf87"
      },
      "source": [
        "print('MAE:', metrics.mean_absolute_error(y_test,predictions))\n",
        "print('MSE:', metrics.mean_squared_error(y_test,predictions))\n",
        "print('RMSE:', np.sqrt(metrics.mean_squared_error(y_test,predictions)))"
      ],
      "execution_count": null,
      "outputs": [
        {
          "output_type": "stream",
          "text": [
            "MAE: 2.779361985282982\n",
            "MSE: 12.921687554798805\n",
            "RMSE: 3.5946748886093727\n"
          ],
          "name": "stdout"
        }
      ]
    },
    {
      "cell_type": "code",
      "metadata": {
        "colab": {
          "base_uri": "https://localhost:8080/",
          "height": 514
        },
        "id": "PEWfS7ghWGL3",
        "outputId": "eb2fa4a1-17c4-4392-d112-d0fb143386cb"
      },
      "source": [
        "#cdf = pd.DataFrame(lm.coef_,X_train.columns, columns=['Coeffecients'])\n",
        "Actual_vs_Predicted = pd.DataFrame(predictions,df_test['Actual'], columns=['Predicted'])\n",
        "Actual_vs_Predicted"
      ],
      "execution_count": null,
      "outputs": [
        {
          "output_type": "execute_result",
          "data": {
            "text/html": [
              "<div>\n",
              "<style scoped>\n",
              "    .dataframe tbody tr th:only-of-type {\n",
              "        vertical-align: middle;\n",
              "    }\n",
              "\n",
              "    .dataframe tbody tr th {\n",
              "        vertical-align: top;\n",
              "    }\n",
              "\n",
              "    .dataframe thead th {\n",
              "        text-align: right;\n",
              "    }\n",
              "</style>\n",
              "<table border=\"1\" class=\"dataframe\">\n",
              "  <thead>\n",
              "    <tr style=\"text-align: right;\">\n",
              "      <th></th>\n",
              "      <th>Predicted</th>\n",
              "    </tr>\n",
              "    <tr>\n",
              "      <th>Actual</th>\n",
              "      <th></th>\n",
              "    </tr>\n",
              "  </thead>\n",
              "  <tbody>\n",
              "    <tr>\n",
              "      <th>127</th>\n",
              "      <td>126.956816</td>\n",
              "    </tr>\n",
              "    <tr>\n",
              "      <th>139</th>\n",
              "      <td>143.583196</td>\n",
              "    </tr>\n",
              "    <tr>\n",
              "      <th>125</th>\n",
              "      <td>121.373066</td>\n",
              "    </tr>\n",
              "    <tr>\n",
              "      <th>126</th>\n",
              "      <td>131.223166</td>\n",
              "    </tr>\n",
              "    <tr>\n",
              "      <th>124</th>\n",
              "      <td>122.886070</td>\n",
              "    </tr>\n",
              "    <tr>\n",
              "      <th>114</th>\n",
              "      <td>121.098577</td>\n",
              "    </tr>\n",
              "    <tr>\n",
              "      <th>103</th>\n",
              "      <td>102.022499</td>\n",
              "    </tr>\n",
              "    <tr>\n",
              "      <th>126</th>\n",
              "      <td>124.997061</td>\n",
              "    </tr>\n",
              "    <tr>\n",
              "      <th>103</th>\n",
              "      <td>99.888807</td>\n",
              "    </tr>\n",
              "    <tr>\n",
              "      <th>118</th>\n",
              "      <td>116.363175</td>\n",
              "    </tr>\n",
              "    <tr>\n",
              "      <th>108</th>\n",
              "      <td>105.746714</td>\n",
              "    </tr>\n",
              "    <tr>\n",
              "      <th>121</th>\n",
              "      <td>120.226973</td>\n",
              "    </tr>\n",
              "    <tr>\n",
              "      <th>114</th>\n",
              "      <td>113.424983</td>\n",
              "    </tr>\n",
              "    <tr>\n",
              "      <th>102</th>\n",
              "      <td>108.892292</td>\n",
              "    </tr>\n",
              "  </tbody>\n",
              "</table>\n",
              "</div>"
            ],
            "text/plain": [
              "         Predicted\n",
              "Actual            \n",
              "127     126.956816\n",
              "139     143.583196\n",
              "125     121.373066\n",
              "126     131.223166\n",
              "124     122.886070\n",
              "114     121.098577\n",
              "103     102.022499\n",
              "126     124.997061\n",
              "103      99.888807\n",
              "118     116.363175\n",
              "108     105.746714\n",
              "121     120.226973\n",
              "114     113.424983\n",
              "102     108.892292"
            ]
          },
          "metadata": {
            "tags": []
          },
          "execution_count": 67
        }
      ]
    },
    {
      "cell_type": "code",
      "metadata": {
        "colab": {
          "base_uri": "https://localhost:8080/",
          "height": 80
        },
        "id": "FbwrW_0TYYvd",
        "outputId": "4af1ccdf-c0d3-4b7e-f93d-bca433d5ac6b"
      },
      "source": [
        "df_v1[df_v1['SurgDate']=='8/27/2012']"
      ],
      "execution_count": null,
      "outputs": [
        {
          "output_type": "execute_result",
          "data": {
            "text/html": [
              "<div>\n",
              "<style scoped>\n",
              "    .dataframe tbody tr th:only-of-type {\n",
              "        vertical-align: middle;\n",
              "    }\n",
              "\n",
              "    .dataframe tbody tr th {\n",
              "        vertical-align: top;\n",
              "    }\n",
              "\n",
              "    .dataframe thead th {\n",
              "        text-align: right;\n",
              "    }\n",
              "</style>\n",
              "<table border=\"1\" class=\"dataframe\">\n",
              "  <thead>\n",
              "    <tr style=\"text-align: right;\">\n",
              "      <th></th>\n",
              "      <th>SurgDate</th>\n",
              "      <th>DOW</th>\n",
              "      <th>T - 28</th>\n",
              "      <th>T - 21</th>\n",
              "      <th>T - 14</th>\n",
              "      <th>T - 13</th>\n",
              "      <th>T - 12</th>\n",
              "      <th>T - 11</th>\n",
              "      <th>T - 10</th>\n",
              "      <th>T - 9</th>\n",
              "      <th>T - 8</th>\n",
              "      <th>T - 7</th>\n",
              "      <th>T - 6</th>\n",
              "      <th>T - 5</th>\n",
              "      <th>T - 4</th>\n",
              "      <th>T - 3</th>\n",
              "      <th>T - 2</th>\n",
              "      <th>T - 1</th>\n",
              "      <th>Actual</th>\n",
              "    </tr>\n",
              "  </thead>\n",
              "  <tbody>\n",
              "    <tr>\n",
              "      <th>227</th>\n",
              "      <td>2012-08-27</td>\n",
              "      <td>Mon</td>\n",
              "      <td>40</td>\n",
              "      <td>44</td>\n",
              "      <td>66</td>\n",
              "      <td>69</td>\n",
              "      <td>79</td>\n",
              "      <td>82</td>\n",
              "      <td>85</td>\n",
              "      <td>85</td>\n",
              "      <td>86</td>\n",
              "      <td>92</td>\n",
              "      <td>98</td>\n",
              "      <td>107</td>\n",
              "      <td>109</td>\n",
              "      <td>111</td>\n",
              "      <td>116</td>\n",
              "      <td>123</td>\n",
              "      <td>127</td>\n",
              "    </tr>\n",
              "  </tbody>\n",
              "</table>\n",
              "</div>"
            ],
            "text/plain": [
              "      SurgDate  DOW  T - 28  T - 21  T - 14  ...  T - 4  T - 3  T - 2  T - 1  Actual\n",
              "227 2012-08-27  Mon      40      44      66  ...    109    111    116    123     127\n",
              "\n",
              "[1 rows x 19 columns]"
            ]
          },
          "metadata": {
            "tags": []
          },
          "execution_count": 75
        }
      ]
    },
    {
      "cell_type": "code",
      "metadata": {
        "id": "F8gg2DiDa5kf"
      },
      "source": [
        "pred_1 = df_v1[226:][['SurgDate','Actual']]"
      ],
      "execution_count": null,
      "outputs": []
    },
    {
      "cell_type": "code",
      "metadata": {
        "colab": {
          "base_uri": "https://localhost:8080/",
          "height": 390
        },
        "id": "NyU00tsda8e-",
        "outputId": "bc85ef6e-8493-41ab-d68f-d2c8260b4fe8"
      },
      "source": [
        "pred_1"
      ],
      "execution_count": null,
      "outputs": [
        {
          "output_type": "execute_result",
          "data": {
            "text/html": [
              "<div>\n",
              "<style scoped>\n",
              "    .dataframe tbody tr th:only-of-type {\n",
              "        vertical-align: middle;\n",
              "    }\n",
              "\n",
              "    .dataframe tbody tr th {\n",
              "        vertical-align: top;\n",
              "    }\n",
              "\n",
              "    .dataframe thead th {\n",
              "        text-align: right;\n",
              "    }\n",
              "</style>\n",
              "<table border=\"1\" class=\"dataframe\">\n",
              "  <thead>\n",
              "    <tr style=\"text-align: right;\">\n",
              "      <th></th>\n",
              "      <th>SurgDate</th>\n",
              "      <th>Actual</th>\n",
              "    </tr>\n",
              "  </thead>\n",
              "  <tbody>\n",
              "    <tr>\n",
              "      <th>230</th>\n",
              "      <td>2012-08-30</td>\n",
              "      <td>126</td>\n",
              "    </tr>\n",
              "    <tr>\n",
              "      <th>231</th>\n",
              "      <td>2012-08-31</td>\n",
              "      <td>124</td>\n",
              "    </tr>\n",
              "    <tr>\n",
              "      <th>232</th>\n",
              "      <td>2012-09-04</td>\n",
              "      <td>114</td>\n",
              "    </tr>\n",
              "    <tr>\n",
              "      <th>233</th>\n",
              "      <td>2012-09-05</td>\n",
              "      <td>103</td>\n",
              "    </tr>\n",
              "    <tr>\n",
              "      <th>234</th>\n",
              "      <td>2012-09-06</td>\n",
              "      <td>126</td>\n",
              "    </tr>\n",
              "    <tr>\n",
              "      <th>235</th>\n",
              "      <td>2012-09-07</td>\n",
              "      <td>103</td>\n",
              "    </tr>\n",
              "    <tr>\n",
              "      <th>236</th>\n",
              "      <td>2012-09-10</td>\n",
              "      <td>118</td>\n",
              "    </tr>\n",
              "    <tr>\n",
              "      <th>237</th>\n",
              "      <td>2012-09-11</td>\n",
              "      <td>108</td>\n",
              "    </tr>\n",
              "    <tr>\n",
              "      <th>238</th>\n",
              "      <td>2012-09-12</td>\n",
              "      <td>121</td>\n",
              "    </tr>\n",
              "    <tr>\n",
              "      <th>239</th>\n",
              "      <td>2012-09-13</td>\n",
              "      <td>114</td>\n",
              "    </tr>\n",
              "    <tr>\n",
              "      <th>240</th>\n",
              "      <td>2012-09-14</td>\n",
              "      <td>102</td>\n",
              "    </tr>\n",
              "  </tbody>\n",
              "</table>\n",
              "</div>"
            ],
            "text/plain": [
              "      SurgDate  Actual\n",
              "230 2012-08-30     126\n",
              "231 2012-08-31     124\n",
              "232 2012-09-04     114\n",
              "233 2012-09-05     103\n",
              "234 2012-09-06     126\n",
              "235 2012-09-07     103\n",
              "236 2012-09-10     118\n",
              "237 2012-09-11     108\n",
              "238 2012-09-12     121\n",
              "239 2012-09-13     114\n",
              "240 2012-09-14     102"
            ]
          },
          "metadata": {
            "tags": []
          },
          "execution_count": 81
        }
      ]
    },
    {
      "cell_type": "code",
      "metadata": {
        "colab": {
          "base_uri": "https://localhost:8080/"
        },
        "id": "qEOFlg6VbyUR",
        "outputId": "d9e73925-e4eb-46ae-a69c-c6e9cfca2dbc"
      },
      "source": [
        "predictions"
      ],
      "execution_count": null,
      "outputs": [
        {
          "output_type": "execute_result",
          "data": {
            "text/plain": [
              "array([126.95681597, 143.58319612, 121.37306579, 131.22316578,\n",
              "       122.88607024, 121.09857747, 102.02249923, 124.99706081,\n",
              "        99.88880682, 116.36317522, 105.74671445, 120.22697251,\n",
              "       113.42498298, 108.89229244])"
            ]
          },
          "metadata": {
            "tags": []
          },
          "execution_count": 82
        }
      ]
    },
    {
      "cell_type": "markdown",
      "metadata": {
        "id": "QtuTyGmx0967"
      },
      "source": [
        "## ANOVA Testing"
      ]
    },
    {
      "cell_type": "code",
      "metadata": {
        "id": "7lOfWOMj0967"
      },
      "source": [
        "# Null Hypothesis: Total surgical case volume does not differ based on the day of week\n",
        "# Alternative Hypothesis: Total surgical case volume differs based on the day of week"
      ],
      "execution_count": null,
      "outputs": []
    },
    {
      "cell_type": "code",
      "metadata": {
        "id": "zUPIRuj_0967",
        "outputId": "8ef58736-63db-4993-b505-a1065252527a"
      },
      "source": [
        "import statsmodels.api as sm\n",
        "from statsmodels.formula.api import ols\n",
        "\n",
        "model = ols('Actual ~ DOW', data=df).fit()\n",
        "aov_table = sm.stats.anova_lm(model, typ=2)\n",
        "aov_table"
      ],
      "execution_count": null,
      "outputs": [
        {
          "output_type": "execute_result",
          "data": {
            "text/html": [
              "<div>\n",
              "<style scoped>\n",
              "    .dataframe tbody tr th:only-of-type {\n",
              "        vertical-align: middle;\n",
              "    }\n",
              "\n",
              "    .dataframe tbody tr th {\n",
              "        vertical-align: top;\n",
              "    }\n",
              "\n",
              "    .dataframe thead th {\n",
              "        text-align: right;\n",
              "    }\n",
              "</style>\n",
              "<table border=\"1\" class=\"dataframe\">\n",
              "  <thead>\n",
              "    <tr style=\"text-align: right;\">\n",
              "      <th></th>\n",
              "      <th>sum_sq</th>\n",
              "      <th>df</th>\n",
              "      <th>F</th>\n",
              "      <th>PR(&gt;F)</th>\n",
              "    </tr>\n",
              "  </thead>\n",
              "  <tbody>\n",
              "    <tr>\n",
              "      <th>DOW</th>\n",
              "      <td>8909.054042</td>\n",
              "      <td>4.0</td>\n",
              "      <td>8.002734</td>\n",
              "      <td>0.000005</td>\n",
              "    </tr>\n",
              "    <tr>\n",
              "      <th>Residual</th>\n",
              "      <td>65681.825626</td>\n",
              "      <td>236.0</td>\n",
              "      <td>NaN</td>\n",
              "      <td>NaN</td>\n",
              "    </tr>\n",
              "  </tbody>\n",
              "</table>\n",
              "</div>"
            ],
            "text/plain": [
              "                sum_sq     df         F    PR(>F)\n",
              "DOW        8909.054042    4.0  8.002734  0.000005\n",
              "Residual  65681.825626  236.0       NaN       NaN"
            ]
          },
          "metadata": {
            "tags": []
          },
          "execution_count": 18
        }
      ]
    },
    {
      "cell_type": "code",
      "metadata": {
        "id": "YYBwiHez0968"
      },
      "source": [
        "# The p value obtained from ANOVA analysis is significant (p < 0.05)\n",
        "# Therefore, we can conclude that there are significant differences among treatments \n",
        "# We reject the null hypothesis and accept alternative hypothesis that total surgical case volume differ by DOW"
      ],
      "execution_count": null,
      "outputs": []
    },
    {
      "cell_type": "code",
      "metadata": {
        "id": "2CFgPe3Y0968",
        "outputId": "1e60c405-3832-4402-cc7d-21777b8fce8f"
      },
      "source": [
        "# Perform multiple pairwise comparison (Tukey HSD)\n",
        "# Tukey test results will provide the difference between combination of any two days\n",
        "\n",
        "from statsmodels.stats.multicomp import pairwise_tukeyhsd\n",
        "tukey = pairwise_tukeyhsd(endog=df['Actual'], groups=df['DOW'], alpha=0.05)\n",
        "print(tukey)"
      ],
      "execution_count": null,
      "outputs": [
        {
          "output_type": "stream",
          "text": [
            " Multiple Comparison of Means - Tukey HSD, FWER=0.05 \n",
            "=====================================================\n",
            "group1 group2 meandiff p-adj   lower    upper  reject\n",
            "-----------------------------------------------------\n",
            "   Fri    Mon  10.6431  0.017   1.2796 20.0065   True\n",
            "   Fri    Thu  18.4711  0.001   9.1576 27.7846   True\n",
            "   Fri    Tue  13.4694  0.001    4.204 22.7348   True\n",
            "   Fri    Wed  11.4294 0.0077   2.1159  20.743   True\n",
            "   Mon    Thu    7.828 0.1529  -1.5831 17.2391  False\n",
            "   Mon    Tue   2.8263    0.9  -6.5371 12.1898  False\n",
            "   Mon    Wed   0.7863    0.9  -8.6247 10.1974  False\n",
            "   Thu    Tue  -5.0017 0.5685 -14.3152  4.3118  False\n",
            "   Thu    Wed  -7.0417 0.2375 -16.4031  2.3197  False\n",
            "   Tue    Wed    -2.04    0.9 -11.3535  7.2736  False\n",
            "-----------------------------------------------------\n"
          ],
          "name": "stdout"
        }
      ]
    },
    {
      "cell_type": "markdown",
      "metadata": {
        "id": "gHd-pYH50968"
      },
      "source": [
        "# Approaches:\n",
        "\n",
        "Model 1: Linear Regression <br>\n",
        "Model 2: Time Series (Simple Moving Average)\n",
        "\n",
        "Dependent variable: Actual Surgery <br>\n",
        "Independent variables: T - 28 to T - 4 <br><br>\n",
        "We will not consider last 3 days for our model building: \n",
        "1. Business: Stakeholders would want to know scheduled surgery atleast a few days before actual date\n",
        "2. Technical: Highest correlation with the actual surgery variable (from previous corr EDA)"
      ]
    },
    {
      "cell_type": "markdown",
      "metadata": {
        "id": "p6NlYuv60968"
      },
      "source": [
        "## Linear Regression\n",
        "\n",
        "Data Cleaning: Removed outliers to make the dependent variable uniformly distributed\n",
        "\n",
        "Regression Equation:\n",
        "\n",
        "x = a1*T-28 + a2*T-21 + ..... + ax*T-1 + ax*DOW"
      ]
    },
    {
      "cell_type": "code",
      "metadata": {
        "id": "EYu6GQlX0968"
      },
      "source": [
        "df1 = df_v1.drop(columns = ['SurgDate', 'DOW'])"
      ],
      "execution_count": null,
      "outputs": []
    },
    {
      "cell_type": "code",
      "metadata": {
        "id": "VAp0bYZh0969"
      },
      "source": [
        "from scipy import stats\n",
        "df1 = df1[(np.abs(stats.zscore(df1)) < 3).all(axis=1)]"
      ],
      "execution_count": null,
      "outputs": []
    },
    {
      "cell_type": "markdown",
      "metadata": {
        "id": "xmkKDDQW0969"
      },
      "source": [
        "### Baseline model"
      ]
    },
    {
      "cell_type": "code",
      "metadata": {
        "id": "TIJqM8IV0969"
      },
      "source": [
        "# x = df1[['T - 28', 'T - 21', 'T - 14', 'T - 13', 'T - 12', 'T - 11', 'T - 10', 'T - 9', 'T - 8', \n",
        "#          'T - 7', 'T - 6', 'T - 5', 'T - 4', 'T - 3', 'T - 2', 'T - 1']]\n",
        "# y = df1[['Actual']]"
      ],
      "execution_count": null,
      "outputs": []
    },
    {
      "cell_type": "code",
      "metadata": {
        "id": "8avw_c9v0969"
      },
      "source": [
        "x = df1[['T - 3', 'T - 2', 'T - 1']]\n",
        "y = df1[['Actual']]"
      ],
      "execution_count": null,
      "outputs": []
    },
    {
      "cell_type": "code",
      "metadata": {
        "id": "XeRVl9T70969",
        "outputId": "85a2e403-3d26-47f7-bb56-af7f1f8bc5de"
      },
      "source": [
        "# 1. With sklearn\n",
        "from sklearn import linear_model\n",
        "import statsmodels.api as sm\n",
        "regr = linear_model.LinearRegression()\n",
        "regr.fit(x, y)\n",
        "\n",
        "print('Intercept: \\n', regr.intercept_)\n",
        "print('Coefficients: \\n', regr.coef_)\n",
        "\n",
        "# T-11 strong negative "
      ],
      "execution_count": null,
      "outputs": [
        {
          "output_type": "stream",
          "text": [
            "Intercept: \n",
            " [15.00220627]\n",
            "Coefficients: \n",
            " [[-0.13743241  0.15288029  0.90361576]]\n"
          ],
          "name": "stdout"
        }
      ]
    },
    {
      "cell_type": "code",
      "metadata": {
        "id": "iaKxwvVy096-",
        "outputId": "7f028f8d-011e-43a8-d058-e0dd3f916194"
      },
      "source": [
        "# 2. With statsmodels\n",
        " \n",
        "model = sm.OLS(y, x).fit()\n",
        "predictions = model.predict(x) \n",
        " \n",
        "print_model = model.summary()\n",
        "print(print_model)"
      ],
      "execution_count": null,
      "outputs": [
        {
          "output_type": "stream",
          "text": [
            "                                 OLS Regression Results                                \n",
            "=======================================================================================\n",
            "Dep. Variable:                 Actual   R-squared (uncentered):                   0.998\n",
            "Model:                            OLS   Adj. R-squared (uncentered):              0.998\n",
            "Method:                 Least Squares   F-statistic:                          4.682e+04\n",
            "Date:                Sat, 20 Feb 2021   Prob (F-statistic):                        0.00\n",
            "Time:                        20:18:45   Log-Likelihood:                         -710.01\n",
            "No. Observations:                 237   AIC:                                      1426.\n",
            "Df Residuals:                     234   BIC:                                      1436.\n",
            "Df Model:                           3                                                  \n",
            "Covariance Type:            nonrobust                                                  \n",
            "==============================================================================\n",
            "                 coef    std err          t      P>|t|      [0.025      0.975]\n",
            "------------------------------------------------------------------------------\n",
            "T - 3         -0.1839      0.098     -1.884      0.061      -0.376       0.008\n",
            "T - 2          0.1571      0.125      1.256      0.210      -0.089       0.404\n",
            "T - 1          1.0737      0.068     15.821      0.000       0.940       1.207\n",
            "==============================================================================\n",
            "Omnibus:                        5.169   Durbin-Watson:                   2.003\n",
            "Prob(Omnibus):                  0.075   Jarque-Bera (JB):                5.433\n",
            "Skew:                           0.229   Prob(JB):                       0.0661\n",
            "Kurtosis:                       3.584   Cond. No.                         89.7\n",
            "==============================================================================\n",
            "\n",
            "Warnings:\n",
            "[1] Standard Errors assume that the covariance matrix of the errors is correctly specified.\n"
          ],
          "name": "stdout"
        }
      ]
    },
    {
      "cell_type": "code",
      "metadata": {
        "id": "owry5So7096-"
      },
      "source": [
        "#Fitting Simple Linear regression data model\n",
        "from sklearn.linear_model import LinearRegression\n",
        "regressorObject=LinearRegression()\n",
        "regressorObject.fit(x,y)\n",
        "\n",
        "#predict number of surgeries for the data set\n",
        "predict = df1.loc[2:242, 'T - 3':'T - 1']\n",
        "y_pred_test_data=regressorObject.predict(predict)"
      ],
      "execution_count": null,
      "outputs": []
    },
    {
      "cell_type": "code",
      "metadata": {
        "id": "uusVjzFt096-"
      },
      "source": [
        "Predicted = pd.DataFrame(y_pred_test_data, columns = ['Predicted'])"
      ],
      "execution_count": null,
      "outputs": []
    },
    {
      "cell_type": "code",
      "metadata": {
        "id": "uuhQMIzd096-"
      },
      "source": [
        "result = pd.concat([df, Predicted], ignore_index=True, axis=1)\n",
        "result.columns = ['SurgDate', 'DOW', 'T - 28', 'T - 21', 'T - 14', 'T - 13', 'T - 12', 'T - 11',' T - 10', 'T - 9',\n",
        "                  'T - 8', 'T - 7', 'T - 6', 'T - 5', 'T - 4', 'T - 3', 'T - 2', 'T - 1', 'Actual', 'Predicted']\n",
        "result['Predicted'] = round(result['Predicted'])"
      ],
      "execution_count": null,
      "outputs": []
    },
    {
      "cell_type": "code",
      "metadata": {
        "id": "GF4GGbSq096-",
        "outputId": "336a1629-a483-4d6b-d412-300db74bc8b6"
      },
      "source": [
        "final = result.dropna()\n",
        "final.tail(10)"
      ],
      "execution_count": null,
      "outputs": [
        {
          "output_type": "execute_result",
          "data": {
            "text/html": [
              "<div>\n",
              "<style scoped>\n",
              "    .dataframe tbody tr th:only-of-type {\n",
              "        vertical-align: middle;\n",
              "    }\n",
              "\n",
              "    .dataframe tbody tr th {\n",
              "        vertical-align: top;\n",
              "    }\n",
              "\n",
              "    .dataframe thead th {\n",
              "        text-align: right;\n",
              "    }\n",
              "</style>\n",
              "<table border=\"1\" class=\"dataframe\">\n",
              "  <thead>\n",
              "    <tr style=\"text-align: right;\">\n",
              "      <th></th>\n",
              "      <th>SurgDate</th>\n",
              "      <th>DOW</th>\n",
              "      <th>T - 28</th>\n",
              "      <th>T - 21</th>\n",
              "      <th>T - 14</th>\n",
              "      <th>T - 13</th>\n",
              "      <th>T - 12</th>\n",
              "      <th>T - 11</th>\n",
              "      <th>T - 10</th>\n",
              "      <th>T - 9</th>\n",
              "      <th>T - 8</th>\n",
              "      <th>T - 7</th>\n",
              "      <th>T - 6</th>\n",
              "      <th>T - 5</th>\n",
              "      <th>T - 4</th>\n",
              "      <th>T - 3</th>\n",
              "      <th>T - 2</th>\n",
              "      <th>T - 1</th>\n",
              "      <th>Actual</th>\n",
              "      <th>Predicted</th>\n",
              "    </tr>\n",
              "  </thead>\n",
              "  <tbody>\n",
              "    <tr>\n",
              "      <th>225</th>\n",
              "      <td>2012-08-23</td>\n",
              "      <td>Thu</td>\n",
              "      <td>41</td>\n",
              "      <td>48</td>\n",
              "      <td>89</td>\n",
              "      <td>98</td>\n",
              "      <td>98</td>\n",
              "      <td>98</td>\n",
              "      <td>100</td>\n",
              "      <td>110</td>\n",
              "      <td>113</td>\n",
              "      <td>117</td>\n",
              "      <td>112</td>\n",
              "      <td>112</td>\n",
              "      <td>113</td>\n",
              "      <td>114</td>\n",
              "      <td>119</td>\n",
              "      <td>129</td>\n",
              "      <td>127</td>\n",
              "      <td>122.0</td>\n",
              "    </tr>\n",
              "    <tr>\n",
              "      <th>226</th>\n",
              "      <td>2012-08-24</td>\n",
              "      <td>Fri</td>\n",
              "      <td>29</td>\n",
              "      <td>34</td>\n",
              "      <td>67</td>\n",
              "      <td>67</td>\n",
              "      <td>67</td>\n",
              "      <td>67</td>\n",
              "      <td>75</td>\n",
              "      <td>91</td>\n",
              "      <td>95</td>\n",
              "      <td>104</td>\n",
              "      <td>104</td>\n",
              "      <td>104</td>\n",
              "      <td>108</td>\n",
              "      <td>115</td>\n",
              "      <td>119</td>\n",
              "      <td>126</td>\n",
              "      <td>126</td>\n",
              "      <td>121.0</td>\n",
              "    </tr>\n",
              "    <tr>\n",
              "      <th>227</th>\n",
              "      <td>2012-08-27</td>\n",
              "      <td>Mon</td>\n",
              "      <td>40</td>\n",
              "      <td>44</td>\n",
              "      <td>66</td>\n",
              "      <td>69</td>\n",
              "      <td>79</td>\n",
              "      <td>82</td>\n",
              "      <td>85</td>\n",
              "      <td>85</td>\n",
              "      <td>86</td>\n",
              "      <td>92</td>\n",
              "      <td>98</td>\n",
              "      <td>107</td>\n",
              "      <td>109</td>\n",
              "      <td>111</td>\n",
              "      <td>116</td>\n",
              "      <td>123</td>\n",
              "      <td>127</td>\n",
              "      <td>103.0</td>\n",
              "    </tr>\n",
              "    <tr>\n",
              "      <th>228</th>\n",
              "      <td>2012-08-28</td>\n",
              "      <td>Tue</td>\n",
              "      <td>34</td>\n",
              "      <td>56</td>\n",
              "      <td>69</td>\n",
              "      <td>84</td>\n",
              "      <td>91</td>\n",
              "      <td>94</td>\n",
              "      <td>94</td>\n",
              "      <td>94</td>\n",
              "      <td>99</td>\n",
              "      <td>103</td>\n",
              "      <td>110</td>\n",
              "      <td>119</td>\n",
              "      <td>124</td>\n",
              "      <td>125</td>\n",
              "      <td>128</td>\n",
              "      <td>139</td>\n",
              "      <td>139</td>\n",
              "      <td>124.0</td>\n",
              "    </tr>\n",
              "    <tr>\n",
              "      <th>229</th>\n",
              "      <td>2012-08-29</td>\n",
              "      <td>Wed</td>\n",
              "      <td>36</td>\n",
              "      <td>57</td>\n",
              "      <td>76</td>\n",
              "      <td>81</td>\n",
              "      <td>87</td>\n",
              "      <td>87</td>\n",
              "      <td>87</td>\n",
              "      <td>92</td>\n",
              "      <td>99</td>\n",
              "      <td>101</td>\n",
              "      <td>102</td>\n",
              "      <td>104</td>\n",
              "      <td>103</td>\n",
              "      <td>103</td>\n",
              "      <td>107</td>\n",
              "      <td>114</td>\n",
              "      <td>125</td>\n",
              "      <td>101.0</td>\n",
              "    </tr>\n",
              "    <tr>\n",
              "      <th>230</th>\n",
              "      <td>2012-08-30</td>\n",
              "      <td>Thu</td>\n",
              "      <td>29</td>\n",
              "      <td>59</td>\n",
              "      <td>86</td>\n",
              "      <td>88</td>\n",
              "      <td>88</td>\n",
              "      <td>88</td>\n",
              "      <td>97</td>\n",
              "      <td>102</td>\n",
              "      <td>105</td>\n",
              "      <td>106</td>\n",
              "      <td>112</td>\n",
              "      <td>113</td>\n",
              "      <td>113</td>\n",
              "      <td>113</td>\n",
              "      <td>115</td>\n",
              "      <td>124</td>\n",
              "      <td>126</td>\n",
              "      <td>117.0</td>\n",
              "    </tr>\n",
              "    <tr>\n",
              "      <th>231</th>\n",
              "      <td>2012-08-31</td>\n",
              "      <td>Fri</td>\n",
              "      <td>19</td>\n",
              "      <td>38</td>\n",
              "      <td>58</td>\n",
              "      <td>58</td>\n",
              "      <td>58</td>\n",
              "      <td>62</td>\n",
              "      <td>68</td>\n",
              "      <td>71</td>\n",
              "      <td>80</td>\n",
              "      <td>86</td>\n",
              "      <td>86</td>\n",
              "      <td>86</td>\n",
              "      <td>94</td>\n",
              "      <td>93</td>\n",
              "      <td>99</td>\n",
              "      <td>116</td>\n",
              "      <td>124</td>\n",
              "      <td>106.0</td>\n",
              "    </tr>\n",
              "    <tr>\n",
              "      <th>232</th>\n",
              "      <td>2012-09-04</td>\n",
              "      <td>Tue</td>\n",
              "      <td>23</td>\n",
              "      <td>36</td>\n",
              "      <td>51</td>\n",
              "      <td>57</td>\n",
              "      <td>66</td>\n",
              "      <td>72</td>\n",
              "      <td>73</td>\n",
              "      <td>73</td>\n",
              "      <td>74</td>\n",
              "      <td>80</td>\n",
              "      <td>84</td>\n",
              "      <td>92</td>\n",
              "      <td>105</td>\n",
              "      <td>106</td>\n",
              "      <td>106</td>\n",
              "      <td>116</td>\n",
              "      <td>114</td>\n",
              "      <td>121.0</td>\n",
              "    </tr>\n",
              "    <tr>\n",
              "      <th>233</th>\n",
              "      <td>2012-09-05</td>\n",
              "      <td>Wed</td>\n",
              "      <td>27</td>\n",
              "      <td>37</td>\n",
              "      <td>47</td>\n",
              "      <td>54</td>\n",
              "      <td>60</td>\n",
              "      <td>60</td>\n",
              "      <td>60</td>\n",
              "      <td>61</td>\n",
              "      <td>70</td>\n",
              "      <td>70</td>\n",
              "      <td>74</td>\n",
              "      <td>81</td>\n",
              "      <td>81</td>\n",
              "      <td>82</td>\n",
              "      <td>85</td>\n",
              "      <td>95</td>\n",
              "      <td>103</td>\n",
              "      <td>113.0</td>\n",
              "    </tr>\n",
              "    <tr>\n",
              "      <th>234</th>\n",
              "      <td>2012-09-06</td>\n",
              "      <td>Thu</td>\n",
              "      <td>23</td>\n",
              "      <td>42</td>\n",
              "      <td>70</td>\n",
              "      <td>80</td>\n",
              "      <td>81</td>\n",
              "      <td>81</td>\n",
              "      <td>87</td>\n",
              "      <td>86</td>\n",
              "      <td>93</td>\n",
              "      <td>99</td>\n",
              "      <td>105</td>\n",
              "      <td>105</td>\n",
              "      <td>105</td>\n",
              "      <td>106</td>\n",
              "      <td>108</td>\n",
              "      <td>119</td>\n",
              "      <td>126</td>\n",
              "      <td>108.0</td>\n",
              "    </tr>\n",
              "  </tbody>\n",
              "</table>\n",
              "</div>"
            ],
            "text/plain": [
              "      SurgDate  DOW  T - 28  T - 21  T - 14  T - 13  T - 12  T - 11   T - 10  \\\n",
              "225 2012-08-23  Thu      41      48      89      98      98      98      100   \n",
              "226 2012-08-24  Fri      29      34      67      67      67      67       75   \n",
              "227 2012-08-27  Mon      40      44      66      69      79      82       85   \n",
              "228 2012-08-28  Tue      34      56      69      84      91      94       94   \n",
              "229 2012-08-29  Wed      36      57      76      81      87      87       87   \n",
              "230 2012-08-30  Thu      29      59      86      88      88      88       97   \n",
              "231 2012-08-31  Fri      19      38      58      58      58      62       68   \n",
              "232 2012-09-04  Tue      23      36      51      57      66      72       73   \n",
              "233 2012-09-05  Wed      27      37      47      54      60      60       60   \n",
              "234 2012-09-06  Thu      23      42      70      80      81      81       87   \n",
              "\n",
              "     T - 9  T - 8  T - 7  T - 6  T - 5  T - 4  T - 3  T - 2  T - 1  Actual  \\\n",
              "225    110    113    117    112    112    113    114    119    129     127   \n",
              "226     91     95    104    104    104    108    115    119    126     126   \n",
              "227     85     86     92     98    107    109    111    116    123     127   \n",
              "228     94     99    103    110    119    124    125    128    139     139   \n",
              "229     92     99    101    102    104    103    103    107    114     125   \n",
              "230    102    105    106    112    113    113    113    115    124     126   \n",
              "231     71     80     86     86     86     94     93     99    116     124   \n",
              "232     73     74     80     84     92    105    106    106    116     114   \n",
              "233     61     70     70     74     81     81     82     85     95     103   \n",
              "234     86     93     99    105    105    105    106    108    119     126   \n",
              "\n",
              "     Predicted  \n",
              "225      122.0  \n",
              "226      121.0  \n",
              "227      103.0  \n",
              "228      124.0  \n",
              "229      101.0  \n",
              "230      117.0  \n",
              "231      106.0  \n",
              "232      121.0  \n",
              "233      113.0  \n",
              "234      108.0  "
            ]
          },
          "metadata": {
            "tags": []
          },
          "execution_count": 30
        }
      ]
    },
    {
      "cell_type": "code",
      "metadata": {
        "id": "8gpNR4sF096_",
        "outputId": "c5d191ff-542a-4f0c-c9a0-239351fae31f"
      },
      "source": [
        "from sklearn.metrics import mean_squared_error\n",
        "from math import sqrt\n",
        "y_actual = final['Actual']\n",
        "y_predicted = final['Predicted']\n",
        "rms = sqrt(mean_squared_error(y_actual, y_predicted))\n",
        "rms"
      ],
      "execution_count": null,
      "outputs": [
        {
          "output_type": "execute_result",
          "data": {
            "text/plain": [
              "20.436617116072224"
            ]
          },
          "metadata": {
            "tags": []
          },
          "execution_count": 31
        }
      ]
    },
    {
      "cell_type": "code",
      "metadata": {
        "id": "DQbHvYdg096_",
        "outputId": "8d3597e5-ccb3-4539-ff2d-82313adcc76b"
      },
      "source": [
        "y = final['Actual']\n",
        "yhat = final['Predicted']\n",
        "d = y - yhat\n",
        "mse_f = np.mean(d**2)\n",
        "mae_f = np.mean(abs(d))\n",
        "rmse_f = np.sqrt(mse_f)\n",
        "r2_f = 1-(sum(d**2)/sum((y-np.mean(y))**2))\n",
        "\n",
        "print(\"Results by manual calculation:\")\n",
        "print(\"MAE:\",mae_f)\n",
        "print(\"MSE:\", mse_f)\n",
        "print(\"RMSE:\", rmse_f)\n",
        "print(\"R-Squared:\", r2_f)"
      ],
      "execution_count": null,
      "outputs": [
        {
          "output_type": "stream",
          "text": [
            "Results by manual calculation:\n",
            "MAE: 14.719148936170212\n",
            "MSE: 417.65531914893614\n",
            "RMSE: 20.436617116072224\n",
            "R-Squared: -0.3245360422877308\n"
          ],
          "name": "stdout"
        }
      ]
    },
    {
      "cell_type": "markdown",
      "metadata": {
        "id": "6TSpRga0096_"
      },
      "source": [
        "### Predicting results for 3 days before the Surgery Date"
      ]
    },
    {
      "cell_type": "code",
      "metadata": {
        "id": "ArVWlzTZ096_"
      },
      "source": [
        "x = df1[['T - 28', 'T - 21', 'T - 14', 'T - 13', 'T - 12', 'T - 11', 'T - 10', 'T - 9', 'T - 8', 'T - 7', 'T - 6', 'T - 5', 'T - 4']]\n",
        "y = df1[['Actual']]"
      ],
      "execution_count": null,
      "outputs": []
    },
    {
      "cell_type": "code",
      "metadata": {
        "id": "G0kI6LUr097A",
        "outputId": "95b2c934-666a-4eb5-f436-4ca80bf6b03c"
      },
      "source": [
        "# 1. With sklearn\n",
        "from sklearn import linear_model\n",
        "import statsmodels.api as sm\n",
        "regr = linear_model.LinearRegression()\n",
        "regr.fit(x, y)\n",
        "\n",
        "print('Intercept: \\n', regr.intercept_)\n",
        "print('Coefficients: \\n', regr.coef_)\n",
        "\n",
        "# T-11 strong negative "
      ],
      "execution_count": null,
      "outputs": [
        {
          "output_type": "stream",
          "text": [
            "Intercept: \n",
            " [40.42147371]\n",
            "Coefficients: \n",
            " [[-0.0640146   0.05590182  0.12707909 -0.06299405  0.24426308 -0.71805695\n",
            "   0.09246963  0.26304515  0.13928967  0.18765895 -0.31579327  0.22184926\n",
            "   0.62816948]]\n"
          ],
          "name": "stdout"
        }
      ]
    },
    {
      "cell_type": "code",
      "metadata": {
        "id": "DURWF6Ij097A",
        "outputId": "2badc245-e582-455e-a2c8-4b1b781e5983"
      },
      "source": [
        "# 2. With statsmodels\n",
        " \n",
        "model = sm.OLS(y, x).fit()\n",
        "predictions = model.predict(x) \n",
        " \n",
        "print_model = model.summary()\n",
        "print(print_model)"
      ],
      "execution_count": null,
      "outputs": [
        {
          "output_type": "stream",
          "text": [
            "                                 OLS Regression Results                                \n",
            "=======================================================================================\n",
            "Dep. Variable:                 Actual   R-squared (uncentered):                   0.996\n",
            "Model:                            OLS   Adj. R-squared (uncentered):              0.995\n",
            "Method:                 Least Squares   F-statistic:                              3829.\n",
            "Date:                Sat, 20 Feb 2021   Prob (F-statistic):                   6.41e-255\n",
            "Time:                        20:18:45   Log-Likelihood:                         -827.42\n",
            "No. Observations:                 237   AIC:                                      1681.\n",
            "Df Residuals:                     224   BIC:                                      1726.\n",
            "Df Model:                          13                                                  \n",
            "Covariance Type:            nonrobust                                                  \n",
            "==============================================================================\n",
            "                 coef    std err          t      P>|t|      [0.025      0.975]\n",
            "------------------------------------------------------------------------------\n",
            "T - 28        -0.1030      0.131     -0.787      0.432      -0.361       0.155\n",
            "T - 21         0.0731      0.139      0.526      0.599      -0.201       0.347\n",
            "T - 14         0.2783      0.203      1.369      0.172      -0.122       0.679\n",
            "T - 13         0.1285      0.310      0.415      0.679      -0.482       0.739\n",
            "T - 12        -0.2263      0.353     -0.641      0.522      -0.922       0.470\n",
            "T - 11        -0.6265      0.342     -1.830      0.069      -1.301       0.048\n",
            "T - 10        -0.0776      0.270     -0.287      0.774      -0.611       0.455\n",
            "T - 9          0.4263      0.247      1.726      0.086      -0.060       0.913\n",
            "T - 8          0.1689      0.251      0.672      0.502      -0.326       0.664\n",
            "T - 7          0.5228      0.294      1.775      0.077      -0.058       1.103\n",
            "T - 6         -0.7779      0.315     -2.470      0.014      -1.398      -0.157\n",
            "T - 5          0.1943      0.301      0.646      0.519      -0.398       0.787\n",
            "T - 4          1.2205      0.200      6.117      0.000       0.827       1.614\n",
            "==============================================================================\n",
            "Omnibus:                        1.792   Durbin-Watson:                   1.830\n",
            "Prob(Omnibus):                  0.408   Jarque-Bera (JB):                1.698\n",
            "Skew:                           0.207   Prob(JB):                        0.428\n",
            "Kurtosis:                       2.984   Cond. No.                         262.\n",
            "==============================================================================\n",
            "\n",
            "Warnings:\n",
            "[1] Standard Errors assume that the covariance matrix of the errors is correctly specified.\n"
          ],
          "name": "stdout"
        }
      ]
    },
    {
      "cell_type": "code",
      "metadata": {
        "id": "DyT6uIyX097A"
      },
      "source": [
        "#Fitting Simple Linear regression data model\n",
        "from sklearn.linear_model import LinearRegression\n",
        "regressorObject=LinearRegression()\n",
        "regressorObject.fit(x,y)\n",
        "\n",
        "#predict number of surgeries for the data set\n",
        "predict = df1.loc[2:242, 'T - 28':'T - 4']\n",
        "y_pred_test_data=regressorObject.predict(predict)"
      ],
      "execution_count": null,
      "outputs": []
    },
    {
      "cell_type": "code",
      "metadata": {
        "id": "vJ9VsggI097B"
      },
      "source": [
        "Predicted = pd.DataFrame(y_pred_test_data, columns = ['Predicted'])"
      ],
      "execution_count": null,
      "outputs": []
    },
    {
      "cell_type": "code",
      "metadata": {
        "scrolled": false,
        "id": "niNg231H097B"
      },
      "source": [
        "result2 = pd.concat([df, Predicted], ignore_index=True, axis=1)\n",
        "result2.columns = ['SurgDate', 'DOW', 'T - 28', 'T - 21', 'T - 14', 'T - 13', 'T - 12', 'T - 11',' T - 10', 'T - 9',\n",
        "                  'T - 8', 'T - 7', 'T - 6', 'T - 5', 'T - 4', 'T - 3', 'T - 2', 'T - 1', 'Actual', 'Predicted']\n",
        "result2['Predicted'] = round(result2['Predicted'])"
      ],
      "execution_count": null,
      "outputs": []
    },
    {
      "cell_type": "code",
      "metadata": {
        "id": "xaLZNrFe097B"
      },
      "source": [
        "final2 = result2.dropna()"
      ],
      "execution_count": null,
      "outputs": []
    },
    {
      "cell_type": "code",
      "metadata": {
        "id": "yRvdzcvd097B",
        "outputId": "0a1987a6-1385-4be2-e6f9-4af4e4a06fa5"
      },
      "source": [
        "round(result['Actual'].mean()), round(result2['Predicted'].mean())\n",
        "\n",
        "# Average Daily Error: ~2 Surgeries"
      ],
      "execution_count": null,
      "outputs": [
        {
          "output_type": "execute_result",
          "data": {
            "text/plain": [
              "(116, 118)"
            ]
          },
          "metadata": {
            "tags": []
          },
          "execution_count": 40
        }
      ]
    },
    {
      "cell_type": "code",
      "metadata": {
        "id": "6CCWMrWm097B",
        "outputId": "9f8d093d-bcf5-434e-a1e7-9d3925fcdb89"
      },
      "source": [
        "from sklearn.metrics import mean_squared_error\n",
        "from math import sqrt\n",
        "y_actual = final2['Actual']\n",
        "y_predicted = final2['Predicted']\n",
        "rms = sqrt(mean_squared_error(y_actual, y_predicted))\n",
        "rms"
      ],
      "execution_count": null,
      "outputs": [
        {
          "output_type": "execute_result",
          "data": {
            "text/plain": [
              "19.41955583776751"
            ]
          },
          "metadata": {
            "tags": []
          },
          "execution_count": 41
        }
      ]
    },
    {
      "cell_type": "code",
      "metadata": {
        "id": "l6B1H375097C",
        "outputId": "5c7a461e-ac37-4d0e-d051-40f186e681b3"
      },
      "source": [
        "y = final2['Actual']\n",
        "yhat = final2['Predicted']\n",
        "d = y - yhat\n",
        "mse_f = np.mean(d**2)\n",
        "mae_f = np.mean(abs(d))\n",
        "rmse_f = np.sqrt(mse_f)\n",
        "r2_f = 1-(sum(d**2)/sum((y-np.mean(y))**2))\n",
        "\n",
        "print(\"Results by manual calculation:\")\n",
        "print(\"MAE:\",mae_f)\n",
        "print(\"MSE:\", mse_f)\n",
        "print(\"RMSE:\", rmse_f)\n",
        "print(\"R-Squared:\", r2_f)"
      ],
      "execution_count": null,
      "outputs": [
        {
          "output_type": "stream",
          "text": [
            "Results by manual calculation:\n",
            "MAE: 13.987234042553192\n",
            "MSE: 377.11914893617023\n",
            "RMSE: 19.41955583776751\n",
            "R-Squared: -0.19598118855684277\n"
          ],
          "name": "stdout"
        }
      ]
    },
    {
      "cell_type": "markdown",
      "metadata": {
        "id": "t884dXd9097C"
      },
      "source": [
        "### Predicting results for 7 days before the surgery date"
      ]
    },
    {
      "cell_type": "code",
      "metadata": {
        "id": "3sAYxzHr097C"
      },
      "source": [
        "x = df1[['T - 28', 'T - 21', 'T - 14', 'T - 13', 'T - 12', 'T - 11', 'T - 10', 'T - 9', 'T - 8']]\n",
        "y = df1[['Actual']]"
      ],
      "execution_count": null,
      "outputs": []
    },
    {
      "cell_type": "code",
      "metadata": {
        "id": "1ZFr_v4J097C"
      },
      "source": [
        "#Fitting Simple Linear regression data model\n",
        "from sklearn.linear_model import LinearRegression\n",
        "regressorObject=LinearRegression()\n",
        "regressorObject.fit(x,y)\n",
        "\n",
        "#predict number of surgeries for the data set\n",
        "predict = df1.loc[2:242, 'T - 28':'T - 8']\n",
        "y_pred_test_data=regressorObject.predict(predict)"
      ],
      "execution_count": null,
      "outputs": []
    },
    {
      "cell_type": "code",
      "metadata": {
        "id": "VEjhIpwM097C"
      },
      "source": [
        "Predicted = pd.DataFrame(y_pred_test_data, columns = ['Predicted'])"
      ],
      "execution_count": null,
      "outputs": []
    },
    {
      "cell_type": "code",
      "metadata": {
        "id": "xx__TBIo097D"
      },
      "source": [
        "result3 = pd.concat([df, Predicted], ignore_index=True, axis=1)\n",
        "result3.columns = ['SurgDate', 'DOW', 'T - 28', 'T - 21', 'T - 14', 'T - 13', 'T - 12', 'T - 11',' T - 10', 'T - 9',\n",
        "                  'T - 8', 'T - 7', 'T - 6', 'T - 5', 'T - 4', 'T - 3', 'T - 2', 'T - 1', 'Actual', 'Predicted']\n",
        "result3['Predicted'] = round(result3['Predicted'])"
      ],
      "execution_count": null,
      "outputs": []
    },
    {
      "cell_type": "code",
      "metadata": {
        "id": "b_KQ7fzh097G"
      },
      "source": [
        "final3 = result3.dropna()"
      ],
      "execution_count": null,
      "outputs": []
    },
    {
      "cell_type": "code",
      "metadata": {
        "id": "vHVsJiZR097G",
        "outputId": "d003c05f-2fc5-4135-9e87-7fb90cde94c7"
      },
      "source": [
        "round(result['Actual'].mean()), round(final3['Predicted'].mean())\n",
        "\n",
        "# Average Daily Error: ~2 Surgeries"
      ],
      "execution_count": null,
      "outputs": [
        {
          "output_type": "execute_result",
          "data": {
            "text/plain": [
              "(116, 118)"
            ]
          },
          "metadata": {
            "tags": []
          },
          "execution_count": 48
        }
      ]
    },
    {
      "cell_type": "code",
      "metadata": {
        "id": "Pvm-RdP_097G",
        "outputId": "8b849284-e61c-42ae-eb47-c46d290a968e"
      },
      "source": [
        "y = final3['Actual']\n",
        "yhat = final3['Predicted']\n",
        "d = y - yhat\n",
        "mse_f = np.mean(d**2)\n",
        "mae_f = np.mean(abs(d))\n",
        "rmse_f = np.sqrt(mse_f)\n",
        "r2_f = 1-(sum(d**2)/sum((y-np.mean(y))**2))\n",
        "\n",
        "print(\"Results by manual calculation:\")\n",
        "print(\"MAE:\",mae_f)\n",
        "print(\"MSE:\", mse_f)\n",
        "print(\"RMSE:\", rmse_f)\n",
        "print(\"R-Squared:\", r2_f)"
      ],
      "execution_count": null,
      "outputs": [
        {
          "output_type": "stream",
          "text": [
            "Results by manual calculation:\n",
            "MAE: 13.565957446808511\n",
            "MSE: 375.6085106382979\n",
            "RMSE: 19.380622039508893\n",
            "R-Squared: -0.19119040826349143\n"
          ],
          "name": "stdout"
        }
      ]
    },
    {
      "cell_type": "code",
      "metadata": {
        "id": "zFaCJF7h097H",
        "outputId": "deab9c7f-e47a-4946-d689-4bbe3edca691"
      },
      "source": [
        "plt.figure(figsize=[15,8])\n",
        "plt.grid(True)\n",
        "plt.plot(result['Actual'],label='Actual')\n",
        "plt.plot(result['Predicted'],label='Predicted')\n",
        "# plt.plot(df['SMA_4'],label='SMA 4 Months')\n",
        "plt.legend(loc=2)"
      ],
      "execution_count": null,
      "outputs": [
        {
          "output_type": "execute_result",
          "data": {
            "text/plain": [
              "<matplotlib.legend.Legend at 0x7ff39b110940>"
            ]
          },
          "metadata": {
            "tags": []
          },
          "execution_count": 50
        },
        {
          "output_type": "display_data",
          "data": {
            "image/png": "[encoded data removed]",
            "text/plain": [
              "<Figure size 1080x576 with 1 Axes>"
            ]
          },
          "metadata": {
            "tags": [],
            "needs_background": "light"
          }
        }
      ]
    }
  ]
}